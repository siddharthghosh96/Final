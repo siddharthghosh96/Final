{
  "nbformat": 4,
  "nbformat_minor": 0,
  "metadata": {
    "colab": {
      "name": "stock_price_prediction.ipynb",
      "provenance": [],
      "collapsed_sections": []
    },
    "kernelspec": {
      "name": "python3",
      "display_name": "Python 3"
    },
    "accelerator": "GPU"
  },
  "cells": [
    {
      "cell_type": "code",
      "metadata": {
        "id": "ItAgRO9jJO9q"
      },
      "source": [
        " \n",
        "#basic libs\n",
        "import numpy as np\n",
        "import pandas as pd\n",
        " \n",
        "#visualization libs\n",
        "import matplotlib.pyplot as plt \n",
        "import matplotlib.dates as mdates\n",
        "import seaborn as sns\n",
        "#from jupyterthemes import jtplot\n",
        "#jtplot.style(theme=\"monokai\",context=\"notebook\",ticks=True,grid=True)\n",
        " \n",
        "#warnings\n",
        "import warnings\n",
        "warnings.filterwarnings(\"ignore\")\n",
        " \n",
        "#deep learning libs\n",
        "from tensorflow.keras.models import Sequential\n",
        "from tensorflow.keras.layers import Dense,LSTM,Dropout,Activation\n",
        " \n",
        "#nlp libs\n",
        "import nltk\n",
        "from nltk.classify import NaiveBayesClassifier\n",
        "from nltk.corpus import subjectivity\n",
        "from nltk.sentiment import SentimentAnalyzer\n",
        "from nltk.util import *\n",
        " \n",
        "#preprocessing and metrics\n",
        "from sklearn import metrics,preprocessing\n",
        "from sklearn.preprocessing import MinMaxScaler\n",
        "from sklearn.metrics import mean_squared_error,r2_score\n",
        "#deep learning libs\n",
        "from tensorflow.keras.models import Sequential\n",
        "from tensorflow.keras.layers import Dense,LSTM,Dropout,Activation\n",
        "from tensorflow.keras.callbacks import EarlyStopping"
      ],
      "execution_count": null,
      "outputs": []
    },
    {
      "cell_type": "code",
      "metadata": {
        "id": "NVscC-Doz5Qg",
        "colab": {
          "base_uri": "https://localhost:8080/"
        },
        "outputId": "d2fda762-d9dd-436d-e463-5b87efb0ba5c"
      },
      "source": [
        "from google.colab import drive\n",
        "drive.mount('/content/drive')"
      ],
      "execution_count": null,
      "outputs": [
        {
          "output_type": "stream",
          "text": [
            "Mounted at /content/drive\n"
          ],
          "name": "stdout"
        }
      ]
    },
    {
      "cell_type": "markdown",
      "metadata": {
        "id": "s_bpMDAEEtBG"
      },
      "source": [
        "# **Importing the datasets**"
      ]
    },
    {
      "cell_type": "code",
      "metadata": {
        "id": "blTCXe10EnuM"
      },
      "source": [
        "\n",
        "#loading the bse sensex  data\n",
        "df_stock=pd.read_csv(\"/content/drive/MyDrive/stock/RS.csv\")\n",
        "#loading the news headlines related to the company\n",
        "df_news=pd.read_csv(\"/content/drive/MyDrive/stock/india-news-headlines.csv\")"
      ],
      "execution_count": null,
      "outputs": []
    },
    {
      "cell_type": "code",
      "metadata": {
        "colab": {
          "base_uri": "https://localhost:8080/",
          "height": 202
        },
        "id": "S_Tx-91WdFTT",
        "outputId": "7d910776-5fe9-42ad-fe99-587449ed99df"
      },
      "source": [
        "#displaying the stock prices\n",
        "df_stock.head()"
      ],
      "execution_count": null,
      "outputs": [
        {
          "output_type": "execute_result",
          "data": {
            "text/html": [
              "<div>\n",
              "<style scoped>\n",
              "    .dataframe tbody tr th:only-of-type {\n",
              "        vertical-align: middle;\n",
              "    }\n",
              "\n",
              "    .dataframe tbody tr th {\n",
              "        vertical-align: top;\n",
              "    }\n",
              "\n",
              "    .dataframe thead th {\n",
              "        text-align: right;\n",
              "    }\n",
              "</style>\n",
              "<table border=\"1\" class=\"dataframe\">\n",
              "  <thead>\n",
              "    <tr style=\"text-align: right;\">\n",
              "      <th></th>\n",
              "      <th>Date</th>\n",
              "      <th>Open</th>\n",
              "      <th>High</th>\n",
              "      <th>Low</th>\n",
              "      <th>Close</th>\n",
              "      <th>Adj Close</th>\n",
              "      <th>Volume</th>\n",
              "    </tr>\n",
              "  </thead>\n",
              "  <tbody>\n",
              "    <tr>\n",
              "      <th>0</th>\n",
              "      <td>2001-01-02</td>\n",
              "      <td>12.4375</td>\n",
              "      <td>12.46875</td>\n",
              "      <td>12.00000</td>\n",
              "      <td>12.06250</td>\n",
              "      <td>8.879863</td>\n",
              "      <td>28200</td>\n",
              "    </tr>\n",
              "    <tr>\n",
              "      <th>1</th>\n",
              "      <td>2001-01-03</td>\n",
              "      <td>12.0625</td>\n",
              "      <td>12.50000</td>\n",
              "      <td>12.00000</td>\n",
              "      <td>12.25000</td>\n",
              "      <td>9.017892</td>\n",
              "      <td>29400</td>\n",
              "    </tr>\n",
              "    <tr>\n",
              "      <th>2</th>\n",
              "      <td>2001-01-04</td>\n",
              "      <td>12.2500</td>\n",
              "      <td>12.31250</td>\n",
              "      <td>12.15625</td>\n",
              "      <td>12.25000</td>\n",
              "      <td>9.017892</td>\n",
              "      <td>17800</td>\n",
              "    </tr>\n",
              "    <tr>\n",
              "      <th>3</th>\n",
              "      <td>2001-01-05</td>\n",
              "      <td>12.1875</td>\n",
              "      <td>12.18750</td>\n",
              "      <td>11.75000</td>\n",
              "      <td>11.78125</td>\n",
              "      <td>8.672821</td>\n",
              "      <td>35600</td>\n",
              "    </tr>\n",
              "    <tr>\n",
              "      <th>4</th>\n",
              "      <td>2001-01-08</td>\n",
              "      <td>11.7500</td>\n",
              "      <td>11.81250</td>\n",
              "      <td>11.68750</td>\n",
              "      <td>11.81250</td>\n",
              "      <td>8.695828</td>\n",
              "      <td>58600</td>\n",
              "    </tr>\n",
              "  </tbody>\n",
              "</table>\n",
              "</div>"
            ],
            "text/plain": [
              "         Date     Open      High       Low     Close  Adj Close  Volume\n",
              "0  2001-01-02  12.4375  12.46875  12.00000  12.06250   8.879863   28200\n",
              "1  2001-01-03  12.0625  12.50000  12.00000  12.25000   9.017892   29400\n",
              "2  2001-01-04  12.2500  12.31250  12.15625  12.25000   9.017892   17800\n",
              "3  2001-01-05  12.1875  12.18750  11.75000  11.78125   8.672821   35600\n",
              "4  2001-01-08  11.7500  11.81250  11.68750  11.81250   8.695828   58600"
            ]
          },
          "metadata": {
            "tags": []
          },
          "execution_count": 13
        }
      ]
    },
    {
      "cell_type": "code",
      "metadata": {
        "id": "BBKcsaNqh8df",
        "colab": {
          "base_uri": "https://localhost:8080/",
          "height": 202
        },
        "outputId": "84db3b50-f027-46c4-b178-d82ef83ce4f1"
      },
      "source": [
        "#displaying the news headlines\n",
        "df_news.head()"
      ],
      "execution_count": null,
      "outputs": [
        {
          "output_type": "execute_result",
          "data": {
            "text/html": [
              "<div>\n",
              "<style scoped>\n",
              "    .dataframe tbody tr th:only-of-type {\n",
              "        vertical-align: middle;\n",
              "    }\n",
              "\n",
              "    .dataframe tbody tr th {\n",
              "        vertical-align: top;\n",
              "    }\n",
              "\n",
              "    .dataframe thead th {\n",
              "        text-align: right;\n",
              "    }\n",
              "</style>\n",
              "<table border=\"1\" class=\"dataframe\">\n",
              "  <thead>\n",
              "    <tr style=\"text-align: right;\">\n",
              "      <th></th>\n",
              "      <th>publish_date</th>\n",
              "      <th>headline_category</th>\n",
              "      <th>headline_text</th>\n",
              "    </tr>\n",
              "  </thead>\n",
              "  <tbody>\n",
              "    <tr>\n",
              "      <th>0</th>\n",
              "      <td>20010102</td>\n",
              "      <td>unknown</td>\n",
              "      <td>Status quo will not be disturbed at Ayodhya; s...</td>\n",
              "    </tr>\n",
              "    <tr>\n",
              "      <th>1</th>\n",
              "      <td>20010102</td>\n",
              "      <td>unknown</td>\n",
              "      <td>Fissures in Hurriyat over Pak visit</td>\n",
              "    </tr>\n",
              "    <tr>\n",
              "      <th>2</th>\n",
              "      <td>20010102</td>\n",
              "      <td>unknown</td>\n",
              "      <td>America's unwanted heading for India?</td>\n",
              "    </tr>\n",
              "    <tr>\n",
              "      <th>3</th>\n",
              "      <td>20010102</td>\n",
              "      <td>unknown</td>\n",
              "      <td>For bigwigs; it is destination Goa</td>\n",
              "    </tr>\n",
              "    <tr>\n",
              "      <th>4</th>\n",
              "      <td>20010102</td>\n",
              "      <td>unknown</td>\n",
              "      <td>Extra buses to clear tourist traffic</td>\n",
              "    </tr>\n",
              "  </tbody>\n",
              "</table>\n",
              "</div>"
            ],
            "text/plain": [
              "   publish_date  ...                                      headline_text\n",
              "0      20010102  ...  Status quo will not be disturbed at Ayodhya; s...\n",
              "1      20010102  ...                Fissures in Hurriyat over Pak visit\n",
              "2      20010102  ...              America's unwanted heading for India?\n",
              "3      20010102  ...                 For bigwigs; it is destination Goa\n",
              "4      20010102  ...               Extra buses to clear tourist traffic\n",
              "\n",
              "[5 rows x 3 columns]"
            ]
          },
          "metadata": {
            "tags": []
          },
          "execution_count": 14
        }
      ]
    },
    {
      "cell_type": "markdown",
      "metadata": {
        "id": "wefS5_yYI9oU"
      },
      "source": [
        "# **Feature engineering** "
      ]
    },
    {
      "cell_type": "code",
      "metadata": {
        "id": "j0EcOJvheuNi",
        "colab": {
          "base_uri": "https://localhost:8080/"
        },
        "outputId": "bea5e2a5-5146-420d-915e-9fd2d3f2401d"
      },
      "source": [
        "#checking the dimensions of both the datasets\n",
        "df_stock.shape,df_news.shape"
      ],
      "execution_count": null,
      "outputs": [
        {
          "output_type": "execute_result",
          "data": {
            "text/plain": [
              "((5031, 7), (3424067, 3))"
            ]
          },
          "metadata": {
            "tags": []
          },
          "execution_count": 15
        }
      ]
    },
    {
      "cell_type": "code",
      "metadata": {
        "colab": {
          "base_uri": "https://localhost:8080/",
          "height": 446
        },
        "id": "Gu4-gK4gdMZi",
        "outputId": "ac6219a4-0ed9-45ac-f73a-05dcde6f7f4c"
      },
      "source": [
        "# dropping the duplicates\n",
        "df_stock=df_stock.drop_duplicates()\n",
        "\n",
        "#converting the date column in type \"datetime\" column\n",
        "df_stock[\"Date\"]=pd.to_datetime(df_stock[\"Date\"]).dt.normalize()\n",
        "\n",
        "#filtering the important columns required\n",
        "df_stock=df_stock.filter([\"Date\",\"Open\",\"High\",\"Low\",\"Close\",\"Volume\"])\n",
        "\n",
        "#setting the \"Date\" as index\n",
        "df_stock.set_index(\"Date\",inplace=True)\n",
        "\n",
        "#Sorting the data based on the index\n",
        "df_stock=df_stock.sort_index(ascending=True,axis=0)\n",
        "\n",
        "#viewing the dataset\n",
        "df_stock"
      ],
      "execution_count": null,
      "outputs": [
        {
          "output_type": "execute_result",
          "data": {
            "text/html": [
              "<div>\n",
              "<style scoped>\n",
              "    .dataframe tbody tr th:only-of-type {\n",
              "        vertical-align: middle;\n",
              "    }\n",
              "\n",
              "    .dataframe tbody tr th {\n",
              "        vertical-align: top;\n",
              "    }\n",
              "\n",
              "    .dataframe thead th {\n",
              "        text-align: right;\n",
              "    }\n",
              "</style>\n",
              "<table border=\"1\" class=\"dataframe\">\n",
              "  <thead>\n",
              "    <tr style=\"text-align: right;\">\n",
              "      <th></th>\n",
              "      <th>Open</th>\n",
              "      <th>High</th>\n",
              "      <th>Low</th>\n",
              "      <th>Close</th>\n",
              "      <th>Volume</th>\n",
              "    </tr>\n",
              "    <tr>\n",
              "      <th>Date</th>\n",
              "      <th></th>\n",
              "      <th></th>\n",
              "      <th></th>\n",
              "      <th></th>\n",
              "      <th></th>\n",
              "    </tr>\n",
              "  </thead>\n",
              "  <tbody>\n",
              "    <tr>\n",
              "      <th>2001-01-02</th>\n",
              "      <td>12.437500</td>\n",
              "      <td>12.468750</td>\n",
              "      <td>12.000000</td>\n",
              "      <td>12.062500</td>\n",
              "      <td>28200</td>\n",
              "    </tr>\n",
              "    <tr>\n",
              "      <th>2001-01-03</th>\n",
              "      <td>12.062500</td>\n",
              "      <td>12.500000</td>\n",
              "      <td>12.000000</td>\n",
              "      <td>12.250000</td>\n",
              "      <td>29400</td>\n",
              "    </tr>\n",
              "    <tr>\n",
              "      <th>2001-01-04</th>\n",
              "      <td>12.250000</td>\n",
              "      <td>12.312500</td>\n",
              "      <td>12.156250</td>\n",
              "      <td>12.250000</td>\n",
              "      <td>17800</td>\n",
              "    </tr>\n",
              "    <tr>\n",
              "      <th>2001-01-05</th>\n",
              "      <td>12.187500</td>\n",
              "      <td>12.187500</td>\n",
              "      <td>11.750000</td>\n",
              "      <td>11.781250</td>\n",
              "      <td>35600</td>\n",
              "    </tr>\n",
              "    <tr>\n",
              "      <th>2001-01-08</th>\n",
              "      <td>11.750000</td>\n",
              "      <td>11.812500</td>\n",
              "      <td>11.687500</td>\n",
              "      <td>11.812500</td>\n",
              "      <td>58600</td>\n",
              "    </tr>\n",
              "    <tr>\n",
              "      <th>...</th>\n",
              "      <td>...</td>\n",
              "      <td>...</td>\n",
              "      <td>...</td>\n",
              "      <td>...</td>\n",
              "      <td>...</td>\n",
              "    </tr>\n",
              "    <tr>\n",
              "      <th>2020-12-23</th>\n",
              "      <td>118.089996</td>\n",
              "      <td>119.220001</td>\n",
              "      <td>117.930000</td>\n",
              "      <td>118.480003</td>\n",
              "      <td>173800</td>\n",
              "    </tr>\n",
              "    <tr>\n",
              "      <th>2020-12-24</th>\n",
              "      <td>119.010002</td>\n",
              "      <td>119.010002</td>\n",
              "      <td>117.260002</td>\n",
              "      <td>118.120003</td>\n",
              "      <td>67200</td>\n",
              "    </tr>\n",
              "    <tr>\n",
              "      <th>2020-12-28</th>\n",
              "      <td>118.970001</td>\n",
              "      <td>119.919998</td>\n",
              "      <td>118.139999</td>\n",
              "      <td>118.410004</td>\n",
              "      <td>144400</td>\n",
              "    </tr>\n",
              "    <tr>\n",
              "      <th>2020-12-29</th>\n",
              "      <td>118.779999</td>\n",
              "      <td>119.589996</td>\n",
              "      <td>117.760002</td>\n",
              "      <td>118.169998</td>\n",
              "      <td>207300</td>\n",
              "    </tr>\n",
              "    <tr>\n",
              "      <th>2020-12-30</th>\n",
              "      <td>118.410004</td>\n",
              "      <td>120.849998</td>\n",
              "      <td>118.059998</td>\n",
              "      <td>119.160004</td>\n",
              "      <td>235200</td>\n",
              "    </tr>\n",
              "  </tbody>\n",
              "</table>\n",
              "<p>5031 rows × 5 columns</p>\n",
              "</div>"
            ],
            "text/plain": [
              "                  Open        High         Low       Close  Volume\n",
              "Date                                                              \n",
              "2001-01-02   12.437500   12.468750   12.000000   12.062500   28200\n",
              "2001-01-03   12.062500   12.500000   12.000000   12.250000   29400\n",
              "2001-01-04   12.250000   12.312500   12.156250   12.250000   17800\n",
              "2001-01-05   12.187500   12.187500   11.750000   11.781250   35600\n",
              "2001-01-08   11.750000   11.812500   11.687500   11.812500   58600\n",
              "...                ...         ...         ...         ...     ...\n",
              "2020-12-23  118.089996  119.220001  117.930000  118.480003  173800\n",
              "2020-12-24  119.010002  119.010002  117.260002  118.120003   67200\n",
              "2020-12-28  118.970001  119.919998  118.139999  118.410004  144400\n",
              "2020-12-29  118.779999  119.589996  117.760002  118.169998  207300\n",
              "2020-12-30  118.410004  120.849998  118.059998  119.160004  235200\n",
              "\n",
              "[5031 rows x 5 columns]"
            ]
          },
          "metadata": {
            "tags": []
          },
          "execution_count": 16
        }
      ]
    },
    {
      "cell_type": "markdown",
      "metadata": {
        "id": "LbI57Lz_RN_u"
      },
      "source": [
        "### **Stock news data**"
      ]
    },
    {
      "cell_type": "code",
      "metadata": {
        "colab": {
          "base_uri": "https://localhost:8080/",
          "height": 446
        },
        "id": "xJD4Z7-CQlS3",
        "outputId": "3d3aebec-8fdc-48fc-f9b1-91daa3d85cde"
      },
      "source": [
        "# dropping the duplicates\n",
        "df_news=df_news.drop_duplicates()\n",
        "\n",
        "#converting the publish_date column in type \"datetime\" column\n",
        "df_news[\"publish_date\"]=df_news[\"publish_date\"].astype(str)\n",
        "df_news[\"publish_date\"]=df_news[\"publish_date\"].apply(lambda x: x[0:4]+'-'+x[4:6]+'-'+x[6:8])\n",
        "df_news[\"publish_date\"]=pd.to_datetime(df_news[\"publish_date\"]).dt.normalize()\n",
        "\n",
        "#fltering the important columns required\n",
        "df_news=df_news.filter([\"publish_date\",\"headline_text\"])\n",
        "\n",
        "#grouping the news according to \"Date\"\n",
        "df_news=df_news.groupby([\"publish_date\"])[\"headline_text\"].apply(lambda x: ','.join(x)).reset_index()\n",
        "\n",
        "#setting the \"publish_Date\" as index\n",
        "df_news.set_index(\"publish_date\",inplace=True)\n",
        "\n",
        "#Sorting the data based on the index\n",
        "df_news=df_news.sort_index(ascending=True,axis=0)\n",
        "\n",
        "#viewing the dataset\n",
        "df_news"
      ],
      "execution_count": null,
      "outputs": [
        {
          "output_type": "execute_result",
          "data": {
            "text/html": [
              "<div>\n",
              "<style scoped>\n",
              "    .dataframe tbody tr th:only-of-type {\n",
              "        vertical-align: middle;\n",
              "    }\n",
              "\n",
              "    .dataframe tbody tr th {\n",
              "        vertical-align: top;\n",
              "    }\n",
              "\n",
              "    .dataframe thead th {\n",
              "        text-align: right;\n",
              "    }\n",
              "</style>\n",
              "<table border=\"1\" class=\"dataframe\">\n",
              "  <thead>\n",
              "    <tr style=\"text-align: right;\">\n",
              "      <th></th>\n",
              "      <th>headline_text</th>\n",
              "    </tr>\n",
              "    <tr>\n",
              "      <th>publish_date</th>\n",
              "      <th></th>\n",
              "    </tr>\n",
              "  </thead>\n",
              "  <tbody>\n",
              "    <tr>\n",
              "      <th>2001-01-02</th>\n",
              "      <td>Status quo will not be disturbed at Ayodhya; s...</td>\n",
              "    </tr>\n",
              "    <tr>\n",
              "      <th>2001-01-03</th>\n",
              "      <td>Powerless north India gropes in the dark,Think...</td>\n",
              "    </tr>\n",
              "    <tr>\n",
              "      <th>2001-01-04</th>\n",
              "      <td>The string that pulled Stephen Hawking to Indi...</td>\n",
              "    </tr>\n",
              "    <tr>\n",
              "      <th>2001-01-05</th>\n",
              "      <td>Light combat craft takes India into club class...</td>\n",
              "    </tr>\n",
              "    <tr>\n",
              "      <th>2001-01-06</th>\n",
              "      <td>Light combat craft takes India into club class...</td>\n",
              "    </tr>\n",
              "    <tr>\n",
              "      <th>...</th>\n",
              "      <td>...</td>\n",
              "    </tr>\n",
              "    <tr>\n",
              "      <th>2020-12-27</th>\n",
              "      <td>#BigInterview! Dhritiman Chatterjee: Nobody da...</td>\n",
              "    </tr>\n",
              "    <tr>\n",
              "      <th>2020-12-28</th>\n",
              "      <td>Horoscope Today; 28 December 2020: Check astro...</td>\n",
              "    </tr>\n",
              "    <tr>\n",
              "      <th>2020-12-29</th>\n",
              "      <td>Man recovers charred remains of 'thief' from h...</td>\n",
              "    </tr>\n",
              "    <tr>\n",
              "      <th>2020-12-30</th>\n",
              "      <td>Numerology Readings 30 December 2020: Predicti...</td>\n",
              "    </tr>\n",
              "    <tr>\n",
              "      <th>2020-12-31</th>\n",
              "      <td>Horoscope Today; 31 December 2020: Check astro...</td>\n",
              "    </tr>\n",
              "  </tbody>\n",
              "</table>\n",
              "<p>7262 rows × 1 columns</p>\n",
              "</div>"
            ],
            "text/plain": [
              "                                                  headline_text\n",
              "publish_date                                                   \n",
              "2001-01-02    Status quo will not be disturbed at Ayodhya; s...\n",
              "2001-01-03    Powerless north India gropes in the dark,Think...\n",
              "2001-01-04    The string that pulled Stephen Hawking to Indi...\n",
              "2001-01-05    Light combat craft takes India into club class...\n",
              "2001-01-06    Light combat craft takes India into club class...\n",
              "...                                                         ...\n",
              "2020-12-27    #BigInterview! Dhritiman Chatterjee: Nobody da...\n",
              "2020-12-28    Horoscope Today; 28 December 2020: Check astro...\n",
              "2020-12-29    Man recovers charred remains of 'thief' from h...\n",
              "2020-12-30    Numerology Readings 30 December 2020: Predicti...\n",
              "2020-12-31    Horoscope Today; 31 December 2020: Check astro...\n",
              "\n",
              "[7262 rows x 1 columns]"
            ]
          },
          "metadata": {
            "tags": []
          },
          "execution_count": 17
        }
      ]
    },
    {
      "cell_type": "code",
      "metadata": {
        "colab": {
          "base_uri": "https://localhost:8080/",
          "height": 415
        },
        "id": "LTgYIsmRd-gT",
        "outputId": "b6cc7655-8b01-480e-910b-da8d5c78aa6f"
      },
      "source": [
        "#concatinating\n",
        "df=pd.concat([df_news,df_stock],axis=1)\n",
        "\n",
        "#slicing from 2001-05-22 to 2020-12-31\n",
        "df=df[pd.Timestamp('2001-05-22'):pd.Timestamp('2020-12-31')]\n",
        "\n",
        "#dropping null values if anly\n",
        "df.dropna(axis=0,inplace=True)\n",
        "\n",
        "#viewing the dataset\n",
        "df"
      ],
      "execution_count": null,
      "outputs": [
        {
          "output_type": "execute_result",
          "data": {
            "text/html": [
              "<div>\n",
              "<style scoped>\n",
              "    .dataframe tbody tr th:only-of-type {\n",
              "        vertical-align: middle;\n",
              "    }\n",
              "\n",
              "    .dataframe tbody tr th {\n",
              "        vertical-align: top;\n",
              "    }\n",
              "\n",
              "    .dataframe thead th {\n",
              "        text-align: right;\n",
              "    }\n",
              "</style>\n",
              "<table border=\"1\" class=\"dataframe\">\n",
              "  <thead>\n",
              "    <tr style=\"text-align: right;\">\n",
              "      <th></th>\n",
              "      <th>headline_text</th>\n",
              "      <th>Open</th>\n",
              "      <th>High</th>\n",
              "      <th>Low</th>\n",
              "      <th>Close</th>\n",
              "      <th>Volume</th>\n",
              "    </tr>\n",
              "  </thead>\n",
              "  <tbody>\n",
              "    <tr>\n",
              "      <th>2001-05-22</th>\n",
              "      <td>She turned and fought,Re-negotiation best: Des...</td>\n",
              "      <td>14.355000</td>\n",
              "      <td>14.450000</td>\n",
              "      <td>14.150000</td>\n",
              "      <td>14.150000</td>\n",
              "      <td>49800.0</td>\n",
              "    </tr>\n",
              "    <tr>\n",
              "      <th>2001-05-25</th>\n",
              "      <td>What Women Want</td>\n",
              "      <td>13.705000</td>\n",
              "      <td>13.775000</td>\n",
              "      <td>13.650000</td>\n",
              "      <td>13.775000</td>\n",
              "      <td>9400.0</td>\n",
              "    </tr>\n",
              "    <tr>\n",
              "      <th>2001-05-29</th>\n",
              "      <td>US visit won't be piece of cake for Krishna,Cy...</td>\n",
              "      <td>13.775000</td>\n",
              "      <td>13.875000</td>\n",
              "      <td>13.645000</td>\n",
              "      <td>13.655000</td>\n",
              "      <td>48000.0</td>\n",
              "    </tr>\n",
              "    <tr>\n",
              "      <th>2001-05-30</th>\n",
              "      <td>Demolition drive: Beware of lake encroachment,...</td>\n",
              "      <td>13.655000</td>\n",
              "      <td>13.660000</td>\n",
              "      <td>13.275000</td>\n",
              "      <td>13.565000</td>\n",
              "      <td>191400.0</td>\n",
              "    </tr>\n",
              "    <tr>\n",
              "      <th>2001-06-01</th>\n",
              "      <td>Nepal's gripping tale of sorrow,Mujhe Kucch Ke...</td>\n",
              "      <td>13.725000</td>\n",
              "      <td>13.800000</td>\n",
              "      <td>13.630000</td>\n",
              "      <td>13.745000</td>\n",
              "      <td>33400.0</td>\n",
              "    </tr>\n",
              "    <tr>\n",
              "      <th>...</th>\n",
              "      <td>...</td>\n",
              "      <td>...</td>\n",
              "      <td>...</td>\n",
              "      <td>...</td>\n",
              "      <td>...</td>\n",
              "      <td>...</td>\n",
              "    </tr>\n",
              "    <tr>\n",
              "      <th>2020-12-23</th>\n",
              "      <td>Sawmill in Makarpura GIDC gutted; none hurt,Ci...</td>\n",
              "      <td>118.089996</td>\n",
              "      <td>119.220001</td>\n",
              "      <td>117.930000</td>\n",
              "      <td>118.480003</td>\n",
              "      <td>173800.0</td>\n",
              "    </tr>\n",
              "    <tr>\n",
              "      <th>2020-12-24</th>\n",
              "      <td>How to set the mood for sex during cold winter...</td>\n",
              "      <td>119.010002</td>\n",
              "      <td>119.010002</td>\n",
              "      <td>117.260002</td>\n",
              "      <td>118.120003</td>\n",
              "      <td>67200.0</td>\n",
              "    </tr>\n",
              "    <tr>\n",
              "      <th>2020-12-28</th>\n",
              "      <td>Horoscope Today; 28 December 2020: Check astro...</td>\n",
              "      <td>118.970001</td>\n",
              "      <td>119.919998</td>\n",
              "      <td>118.139999</td>\n",
              "      <td>118.410004</td>\n",
              "      <td>144400.0</td>\n",
              "    </tr>\n",
              "    <tr>\n",
              "      <th>2020-12-29</th>\n",
              "      <td>Man recovers charred remains of 'thief' from h...</td>\n",
              "      <td>118.779999</td>\n",
              "      <td>119.589996</td>\n",
              "      <td>117.760002</td>\n",
              "      <td>118.169998</td>\n",
              "      <td>207300.0</td>\n",
              "    </tr>\n",
              "    <tr>\n",
              "      <th>2020-12-30</th>\n",
              "      <td>Numerology Readings 30 December 2020: Predicti...</td>\n",
              "      <td>118.410004</td>\n",
              "      <td>120.849998</td>\n",
              "      <td>118.059998</td>\n",
              "      <td>119.160004</td>\n",
              "      <td>235200.0</td>\n",
              "    </tr>\n",
              "  </tbody>\n",
              "</table>\n",
              "<p>4922 rows × 6 columns</p>\n",
              "</div>"
            ],
            "text/plain": [
              "                                                headline_text  ...    Volume\n",
              "2001-05-22  She turned and fought,Re-negotiation best: Des...  ...   49800.0\n",
              "2001-05-25                                    What Women Want  ...    9400.0\n",
              "2001-05-29  US visit won't be piece of cake for Krishna,Cy...  ...   48000.0\n",
              "2001-05-30  Demolition drive: Beware of lake encroachment,...  ...  191400.0\n",
              "2001-06-01  Nepal's gripping tale of sorrow,Mujhe Kucch Ke...  ...   33400.0\n",
              "...                                                       ...  ...       ...\n",
              "2020-12-23  Sawmill in Makarpura GIDC gutted; none hurt,Ci...  ...  173800.0\n",
              "2020-12-24  How to set the mood for sex during cold winter...  ...   67200.0\n",
              "2020-12-28  Horoscope Today; 28 December 2020: Check astro...  ...  144400.0\n",
              "2020-12-29  Man recovers charred remains of 'thief' from h...  ...  207300.0\n",
              "2020-12-30  Numerology Readings 30 December 2020: Predicti...  ...  235200.0\n",
              "\n",
              "[4922 rows x 6 columns]"
            ]
          },
          "metadata": {
            "tags": []
          },
          "execution_count": 18
        }
      ]
    },
    {
      "cell_type": "markdown",
      "metadata": {
        "id": "gpBQlManRlYH"
      },
      "source": [
        "**Calculating sentiment scores**"
      ]
    },
    {
      "cell_type": "code",
      "metadata": {
        "colab": {
          "base_uri": "https://localhost:8080/",
          "height": 599
        },
        "id": "YNHs5xRaQlbS",
        "outputId": "08631ae2-63b4-4de1-8e19-939de7c8cf21"
      },
      "source": [
        "#adding the sentiment columns\n",
        "df[\"compound\"]=\"\"\n",
        "df[\"negative\"]=\"\"\n",
        "df[\"neutral\"]=\"\"\n",
        "df[\"positive\"]=\"\"\n",
        "df[\"positive\"]=\"\"\n",
        "df"
      ],
      "execution_count": null,
      "outputs": [
        {
          "output_type": "execute_result",
          "data": {
            "text/html": [
              "<div>\n",
              "<style scoped>\n",
              "    .dataframe tbody tr th:only-of-type {\n",
              "        vertical-align: middle;\n",
              "    }\n",
              "\n",
              "    .dataframe tbody tr th {\n",
              "        vertical-align: top;\n",
              "    }\n",
              "\n",
              "    .dataframe thead th {\n",
              "        text-align: right;\n",
              "    }\n",
              "</style>\n",
              "<table border=\"1\" class=\"dataframe\">\n",
              "  <thead>\n",
              "    <tr style=\"text-align: right;\">\n",
              "      <th></th>\n",
              "      <th>headline_text</th>\n",
              "      <th>Open</th>\n",
              "      <th>High</th>\n",
              "      <th>Low</th>\n",
              "      <th>Close</th>\n",
              "      <th>Volume</th>\n",
              "      <th>compound</th>\n",
              "      <th>negative</th>\n",
              "      <th>neutral</th>\n",
              "      <th>positive</th>\n",
              "    </tr>\n",
              "  </thead>\n",
              "  <tbody>\n",
              "    <tr>\n",
              "      <th>2001-05-22</th>\n",
              "      <td>She turned and fought,Re-negotiation best: Des...</td>\n",
              "      <td>14.355000</td>\n",
              "      <td>14.450000</td>\n",
              "      <td>14.150000</td>\n",
              "      <td>14.150000</td>\n",
              "      <td>49800.0</td>\n",
              "      <td></td>\n",
              "      <td></td>\n",
              "      <td></td>\n",
              "      <td></td>\n",
              "    </tr>\n",
              "    <tr>\n",
              "      <th>2001-05-25</th>\n",
              "      <td>What Women Want</td>\n",
              "      <td>13.705000</td>\n",
              "      <td>13.775000</td>\n",
              "      <td>13.650000</td>\n",
              "      <td>13.775000</td>\n",
              "      <td>9400.0</td>\n",
              "      <td></td>\n",
              "      <td></td>\n",
              "      <td></td>\n",
              "      <td></td>\n",
              "    </tr>\n",
              "    <tr>\n",
              "      <th>2001-05-29</th>\n",
              "      <td>US visit won't be piece of cake for Krishna,Cy...</td>\n",
              "      <td>13.775000</td>\n",
              "      <td>13.875000</td>\n",
              "      <td>13.645000</td>\n",
              "      <td>13.655000</td>\n",
              "      <td>48000.0</td>\n",
              "      <td></td>\n",
              "      <td></td>\n",
              "      <td></td>\n",
              "      <td></td>\n",
              "    </tr>\n",
              "    <tr>\n",
              "      <th>2001-05-30</th>\n",
              "      <td>Demolition drive: Beware of lake encroachment,...</td>\n",
              "      <td>13.655000</td>\n",
              "      <td>13.660000</td>\n",
              "      <td>13.275000</td>\n",
              "      <td>13.565000</td>\n",
              "      <td>191400.0</td>\n",
              "      <td></td>\n",
              "      <td></td>\n",
              "      <td></td>\n",
              "      <td></td>\n",
              "    </tr>\n",
              "    <tr>\n",
              "      <th>2001-06-01</th>\n",
              "      <td>Nepal's gripping tale of sorrow,Mujhe Kucch Ke...</td>\n",
              "      <td>13.725000</td>\n",
              "      <td>13.800000</td>\n",
              "      <td>13.630000</td>\n",
              "      <td>13.745000</td>\n",
              "      <td>33400.0</td>\n",
              "      <td></td>\n",
              "      <td></td>\n",
              "      <td></td>\n",
              "      <td></td>\n",
              "    </tr>\n",
              "    <tr>\n",
              "      <th>...</th>\n",
              "      <td>...</td>\n",
              "      <td>...</td>\n",
              "      <td>...</td>\n",
              "      <td>...</td>\n",
              "      <td>...</td>\n",
              "      <td>...</td>\n",
              "      <td>...</td>\n",
              "      <td>...</td>\n",
              "      <td>...</td>\n",
              "      <td>...</td>\n",
              "    </tr>\n",
              "    <tr>\n",
              "      <th>2020-12-23</th>\n",
              "      <td>Sawmill in Makarpura GIDC gutted; none hurt,Ci...</td>\n",
              "      <td>118.089996</td>\n",
              "      <td>119.220001</td>\n",
              "      <td>117.930000</td>\n",
              "      <td>118.480003</td>\n",
              "      <td>173800.0</td>\n",
              "      <td></td>\n",
              "      <td></td>\n",
              "      <td></td>\n",
              "      <td></td>\n",
              "    </tr>\n",
              "    <tr>\n",
              "      <th>2020-12-24</th>\n",
              "      <td>How to set the mood for sex during cold winter...</td>\n",
              "      <td>119.010002</td>\n",
              "      <td>119.010002</td>\n",
              "      <td>117.260002</td>\n",
              "      <td>118.120003</td>\n",
              "      <td>67200.0</td>\n",
              "      <td></td>\n",
              "      <td></td>\n",
              "      <td></td>\n",
              "      <td></td>\n",
              "    </tr>\n",
              "    <tr>\n",
              "      <th>2020-12-28</th>\n",
              "      <td>Horoscope Today; 28 December 2020: Check astro...</td>\n",
              "      <td>118.970001</td>\n",
              "      <td>119.919998</td>\n",
              "      <td>118.139999</td>\n",
              "      <td>118.410004</td>\n",
              "      <td>144400.0</td>\n",
              "      <td></td>\n",
              "      <td></td>\n",
              "      <td></td>\n",
              "      <td></td>\n",
              "    </tr>\n",
              "    <tr>\n",
              "      <th>2020-12-29</th>\n",
              "      <td>Man recovers charred remains of 'thief' from h...</td>\n",
              "      <td>118.779999</td>\n",
              "      <td>119.589996</td>\n",
              "      <td>117.760002</td>\n",
              "      <td>118.169998</td>\n",
              "      <td>207300.0</td>\n",
              "      <td></td>\n",
              "      <td></td>\n",
              "      <td></td>\n",
              "      <td></td>\n",
              "    </tr>\n",
              "    <tr>\n",
              "      <th>2020-12-30</th>\n",
              "      <td>Numerology Readings 30 December 2020: Predicti...</td>\n",
              "      <td>118.410004</td>\n",
              "      <td>120.849998</td>\n",
              "      <td>118.059998</td>\n",
              "      <td>119.160004</td>\n",
              "      <td>235200.0</td>\n",
              "      <td></td>\n",
              "      <td></td>\n",
              "      <td></td>\n",
              "      <td></td>\n",
              "    </tr>\n",
              "  </tbody>\n",
              "</table>\n",
              "<p>4922 rows × 10 columns</p>\n",
              "</div>"
            ],
            "text/plain": [
              "                                                headline_text  ...  positive\n",
              "2001-05-22  She turned and fought,Re-negotiation best: Des...  ...          \n",
              "2001-05-25                                    What Women Want  ...          \n",
              "2001-05-29  US visit won't be piece of cake for Krishna,Cy...  ...          \n",
              "2001-05-30  Demolition drive: Beware of lake encroachment,...  ...          \n",
              "2001-06-01  Nepal's gripping tale of sorrow,Mujhe Kucch Ke...  ...          \n",
              "...                                                       ...  ...       ...\n",
              "2020-12-23  Sawmill in Makarpura GIDC gutted; none hurt,Ci...  ...          \n",
              "2020-12-24  How to set the mood for sex during cold winter...  ...          \n",
              "2020-12-28  Horoscope Today; 28 December 2020: Check astro...  ...          \n",
              "2020-12-29  Man recovers charred remains of 'thief' from h...  ...          \n",
              "2020-12-30  Numerology Readings 30 December 2020: Predicti...  ...          \n",
              "\n",
              "[4922 rows x 10 columns]"
            ]
          },
          "metadata": {
            "tags": []
          },
          "execution_count": 19
        }
      ]
    },
    {
      "cell_type": "code",
      "metadata": {
        "colab": {
          "base_uri": "https://localhost:8080/"
        },
        "id": "_JK9oiSYQldZ",
        "outputId": "9980ce3e-af24-4ba7-bf0b-2b7910a3d2a1"
      },
      "source": [
        "#calling the required libraries\n",
        "import nltk\n",
        "nltk.download('vader_lexicon')\n",
        "from nltk.sentiment.vader import SentimentIntensityAnalyzer\n",
        "import unicodedata\n",
        "from tqdm import tqdm\n",
        "from tqdm.gui import tqdm as tqdm_gui\n",
        "#keeping track of the progress \n",
        "tqdm.pandas()\n",
        "#instantiating the sentiment analyzer\n",
        "sid=SentimentIntensityAnalyzer()\n",
        "#calculating the sentiment scores\n",
        "df[\"compound\"]=df[\"headline_text\"].progress_apply(lambda x: sid.polarity_scores(x)[\"compound\"])\n",
        "df[\"negative\"]=df[\"headline_text\"].progress_apply(lambda x: sid.polarity_scores(x)[\"neg\"])\n",
        "df[\"neutral\"]=df[\"headline_text\"].progress_apply(lambda x: sid.polarity_scores(x)[\"neu\"])\n",
        "df[\"positive\"]=df[\"headline_text\"].progress_apply(lambda x: sid.polarity_scores(x)[\"pos\"])"
      ],
      "execution_count": null,
      "outputs": [
        {
          "output_type": "stream",
          "text": [
            "  0%|          | 12/4922 [00:00<00:41, 119.19it/s]"
          ],
          "name": "stderr"
        },
        {
          "output_type": "stream",
          "text": [
            "[nltk_data] Downloading package vader_lexicon to /root/nltk_data...\n"
          ],
          "name": "stdout"
        },
        {
          "output_type": "stream",
          "text": [
            "100%|██████████| 4922/4922 [10:56<00:00,  7.50it/s]\n",
            "100%|██████████| 4922/4922 [10:51<00:00,  7.55it/s]\n",
            "100%|██████████| 4922/4922 [10:55<00:00,  7.51it/s]\n",
            "100%|██████████| 4922/4922 [10:53<00:00,  7.53it/s]\n"
          ],
          "name": "stderr"
        }
      ]
    },
    {
      "cell_type": "code",
      "metadata": {
        "colab": {
          "base_uri": "https://localhost:8080/",
          "height": 599
        },
        "id": "BSSjK2US1JBn",
        "outputId": "fc692491-1b3f-4924-cf07-c28643690096"
      },
      "source": [
        "#viewing the dataset\n",
        "df"
      ],
      "execution_count": null,
      "outputs": [
        {
          "output_type": "execute_result",
          "data": {
            "text/html": [
              "<div>\n",
              "<style scoped>\n",
              "    .dataframe tbody tr th:only-of-type {\n",
              "        vertical-align: middle;\n",
              "    }\n",
              "\n",
              "    .dataframe tbody tr th {\n",
              "        vertical-align: top;\n",
              "    }\n",
              "\n",
              "    .dataframe thead th {\n",
              "        text-align: right;\n",
              "    }\n",
              "</style>\n",
              "<table border=\"1\" class=\"dataframe\">\n",
              "  <thead>\n",
              "    <tr style=\"text-align: right;\">\n",
              "      <th></th>\n",
              "      <th>headline_text</th>\n",
              "      <th>Open</th>\n",
              "      <th>High</th>\n",
              "      <th>Low</th>\n",
              "      <th>Close</th>\n",
              "      <th>Volume</th>\n",
              "      <th>compound</th>\n",
              "      <th>negative</th>\n",
              "      <th>neutral</th>\n",
              "      <th>positive</th>\n",
              "    </tr>\n",
              "  </thead>\n",
              "  <tbody>\n",
              "    <tr>\n",
              "      <th>2001-05-22</th>\n",
              "      <td>She turned and fought,Re-negotiation best: Des...</td>\n",
              "      <td>14.355000</td>\n",
              "      <td>14.450000</td>\n",
              "      <td>14.150000</td>\n",
              "      <td>14.150000</td>\n",
              "      <td>49800.0</td>\n",
              "      <td>-0.9907</td>\n",
              "      <td>0.134</td>\n",
              "      <td>0.800</td>\n",
              "      <td>0.066</td>\n",
              "    </tr>\n",
              "    <tr>\n",
              "      <th>2001-05-25</th>\n",
              "      <td>What Women Want</td>\n",
              "      <td>13.705000</td>\n",
              "      <td>13.775000</td>\n",
              "      <td>13.650000</td>\n",
              "      <td>13.775000</td>\n",
              "      <td>9400.0</td>\n",
              "      <td>0.0772</td>\n",
              "      <td>0.000</td>\n",
              "      <td>0.606</td>\n",
              "      <td>0.394</td>\n",
              "    </tr>\n",
              "    <tr>\n",
              "      <th>2001-05-29</th>\n",
              "      <td>US visit won't be piece of cake for Krishna,Cy...</td>\n",
              "      <td>13.775000</td>\n",
              "      <td>13.875000</td>\n",
              "      <td>13.645000</td>\n",
              "      <td>13.655000</td>\n",
              "      <td>48000.0</td>\n",
              "      <td>-0.9382</td>\n",
              "      <td>0.079</td>\n",
              "      <td>0.849</td>\n",
              "      <td>0.072</td>\n",
              "    </tr>\n",
              "    <tr>\n",
              "      <th>2001-05-30</th>\n",
              "      <td>Demolition drive: Beware of lake encroachment,...</td>\n",
              "      <td>13.655000</td>\n",
              "      <td>13.660000</td>\n",
              "      <td>13.275000</td>\n",
              "      <td>13.565000</td>\n",
              "      <td>191400.0</td>\n",
              "      <td>0.5707</td>\n",
              "      <td>0.070</td>\n",
              "      <td>0.853</td>\n",
              "      <td>0.077</td>\n",
              "    </tr>\n",
              "    <tr>\n",
              "      <th>2001-06-01</th>\n",
              "      <td>Nepal's gripping tale of sorrow,Mujhe Kucch Ke...</td>\n",
              "      <td>13.725000</td>\n",
              "      <td>13.800000</td>\n",
              "      <td>13.630000</td>\n",
              "      <td>13.745000</td>\n",
              "      <td>33400.0</td>\n",
              "      <td>0.0000</td>\n",
              "      <td>0.000</td>\n",
              "      <td>1.000</td>\n",
              "      <td>0.000</td>\n",
              "    </tr>\n",
              "    <tr>\n",
              "      <th>...</th>\n",
              "      <td>...</td>\n",
              "      <td>...</td>\n",
              "      <td>...</td>\n",
              "      <td>...</td>\n",
              "      <td>...</td>\n",
              "      <td>...</td>\n",
              "      <td>...</td>\n",
              "      <td>...</td>\n",
              "      <td>...</td>\n",
              "      <td>...</td>\n",
              "    </tr>\n",
              "    <tr>\n",
              "      <th>2020-12-23</th>\n",
              "      <td>Sawmill in Makarpura GIDC gutted; none hurt,Ci...</td>\n",
              "      <td>118.089996</td>\n",
              "      <td>119.220001</td>\n",
              "      <td>117.930000</td>\n",
              "      <td>118.480003</td>\n",
              "      <td>173800.0</td>\n",
              "      <td>-0.9995</td>\n",
              "      <td>0.117</td>\n",
              "      <td>0.804</td>\n",
              "      <td>0.078</td>\n",
              "    </tr>\n",
              "    <tr>\n",
              "      <th>2020-12-24</th>\n",
              "      <td>How to set the mood for sex during cold winter...</td>\n",
              "      <td>119.010002</td>\n",
              "      <td>119.010002</td>\n",
              "      <td>117.260002</td>\n",
              "      <td>118.120003</td>\n",
              "      <td>67200.0</td>\n",
              "      <td>-0.9966</td>\n",
              "      <td>0.080</td>\n",
              "      <td>0.857</td>\n",
              "      <td>0.063</td>\n",
              "    </tr>\n",
              "    <tr>\n",
              "      <th>2020-12-28</th>\n",
              "      <td>Horoscope Today; 28 December 2020: Check astro...</td>\n",
              "      <td>118.970001</td>\n",
              "      <td>119.919998</td>\n",
              "      <td>118.139999</td>\n",
              "      <td>118.410004</td>\n",
              "      <td>144400.0</td>\n",
              "      <td>-0.9997</td>\n",
              "      <td>0.125</td>\n",
              "      <td>0.792</td>\n",
              "      <td>0.083</td>\n",
              "    </tr>\n",
              "    <tr>\n",
              "      <th>2020-12-29</th>\n",
              "      <td>Man recovers charred remains of 'thief' from h...</td>\n",
              "      <td>118.779999</td>\n",
              "      <td>119.589996</td>\n",
              "      <td>117.760002</td>\n",
              "      <td>118.169998</td>\n",
              "      <td>207300.0</td>\n",
              "      <td>-0.9997</td>\n",
              "      <td>0.134</td>\n",
              "      <td>0.777</td>\n",
              "      <td>0.089</td>\n",
              "    </tr>\n",
              "    <tr>\n",
              "      <th>2020-12-30</th>\n",
              "      <td>Numerology Readings 30 December 2020: Predicti...</td>\n",
              "      <td>118.410004</td>\n",
              "      <td>120.849998</td>\n",
              "      <td>118.059998</td>\n",
              "      <td>119.160004</td>\n",
              "      <td>235200.0</td>\n",
              "      <td>-0.9997</td>\n",
              "      <td>0.122</td>\n",
              "      <td>0.802</td>\n",
              "      <td>0.076</td>\n",
              "    </tr>\n",
              "  </tbody>\n",
              "</table>\n",
              "<p>4922 rows × 10 columns</p>\n",
              "</div>"
            ],
            "text/plain": [
              "                                                headline_text  ...  positive\n",
              "2001-05-22  She turned and fought,Re-negotiation best: Des...  ...     0.066\n",
              "2001-05-25                                    What Women Want  ...     0.394\n",
              "2001-05-29  US visit won't be piece of cake for Krishna,Cy...  ...     0.072\n",
              "2001-05-30  Demolition drive: Beware of lake encroachment,...  ...     0.077\n",
              "2001-06-01  Nepal's gripping tale of sorrow,Mujhe Kucch Ke...  ...     0.000\n",
              "...                                                       ...  ...       ...\n",
              "2020-12-23  Sawmill in Makarpura GIDC gutted; none hurt,Ci...  ...     0.078\n",
              "2020-12-24  How to set the mood for sex during cold winter...  ...     0.063\n",
              "2020-12-28  Horoscope Today; 28 December 2020: Check astro...  ...     0.083\n",
              "2020-12-29  Man recovers charred remains of 'thief' from h...  ...     0.089\n",
              "2020-12-30  Numerology Readings 30 December 2020: Predicti...  ...     0.076\n",
              "\n",
              "[4922 rows x 10 columns]"
            ]
          },
          "metadata": {
            "tags": []
          },
          "execution_count": 22
        }
      ]
    },
    {
      "cell_type": "code",
      "metadata": {
        "id": "TDly1yPKqAty"
      },
      "source": [
        ""
      ],
      "execution_count": null,
      "outputs": []
    },
    {
      "cell_type": "markdown",
      "metadata": {
        "id": "CgoUDGUvlwCd"
      },
      "source": [
        "**Writing the finalized data to a disk**"
      ]
    },
    {
      "cell_type": "code",
      "metadata": {
        "colab": {
          "base_uri": "https://localhost:8080/",
          "height": 415
        },
        "id": "LmAm7Cmllkbp",
        "outputId": "8fc45be7-e8d1-41b9-8528-476fd86f307c"
      },
      "source": [
        "\n",
        "#dropping the headline_text because it's unwanted now\n",
        "df.drop([\"headline_text\"],axis=1,inplace=True)\n",
        "#displaying the data\n",
        "df"
      ],
      "execution_count": null,
      "outputs": [
        {
          "output_type": "execute_result",
          "data": {
            "text/html": [
              "<div>\n",
              "<style scoped>\n",
              "    .dataframe tbody tr th:only-of-type {\n",
              "        vertical-align: middle;\n",
              "    }\n",
              "\n",
              "    .dataframe tbody tr th {\n",
              "        vertical-align: top;\n",
              "    }\n",
              "\n",
              "    .dataframe thead th {\n",
              "        text-align: right;\n",
              "    }\n",
              "</style>\n",
              "<table border=\"1\" class=\"dataframe\">\n",
              "  <thead>\n",
              "    <tr style=\"text-align: right;\">\n",
              "      <th></th>\n",
              "      <th>Open</th>\n",
              "      <th>High</th>\n",
              "      <th>Low</th>\n",
              "      <th>Close</th>\n",
              "      <th>Volume</th>\n",
              "      <th>compound</th>\n",
              "      <th>negative</th>\n",
              "      <th>neutral</th>\n",
              "      <th>positive</th>\n",
              "    </tr>\n",
              "  </thead>\n",
              "  <tbody>\n",
              "    <tr>\n",
              "      <th>2001-05-22</th>\n",
              "      <td>14.355000</td>\n",
              "      <td>14.450000</td>\n",
              "      <td>14.150000</td>\n",
              "      <td>14.150000</td>\n",
              "      <td>49800.0</td>\n",
              "      <td>-0.9907</td>\n",
              "      <td>0.134</td>\n",
              "      <td>0.800</td>\n",
              "      <td>0.066</td>\n",
              "    </tr>\n",
              "    <tr>\n",
              "      <th>2001-05-25</th>\n",
              "      <td>13.705000</td>\n",
              "      <td>13.775000</td>\n",
              "      <td>13.650000</td>\n",
              "      <td>13.775000</td>\n",
              "      <td>9400.0</td>\n",
              "      <td>0.0772</td>\n",
              "      <td>0.000</td>\n",
              "      <td>0.606</td>\n",
              "      <td>0.394</td>\n",
              "    </tr>\n",
              "    <tr>\n",
              "      <th>2001-05-29</th>\n",
              "      <td>13.775000</td>\n",
              "      <td>13.875000</td>\n",
              "      <td>13.645000</td>\n",
              "      <td>13.655000</td>\n",
              "      <td>48000.0</td>\n",
              "      <td>-0.9382</td>\n",
              "      <td>0.079</td>\n",
              "      <td>0.849</td>\n",
              "      <td>0.072</td>\n",
              "    </tr>\n",
              "    <tr>\n",
              "      <th>2001-05-30</th>\n",
              "      <td>13.655000</td>\n",
              "      <td>13.660000</td>\n",
              "      <td>13.275000</td>\n",
              "      <td>13.565000</td>\n",
              "      <td>191400.0</td>\n",
              "      <td>0.5707</td>\n",
              "      <td>0.070</td>\n",
              "      <td>0.853</td>\n",
              "      <td>0.077</td>\n",
              "    </tr>\n",
              "    <tr>\n",
              "      <th>2001-06-01</th>\n",
              "      <td>13.725000</td>\n",
              "      <td>13.800000</td>\n",
              "      <td>13.630000</td>\n",
              "      <td>13.745000</td>\n",
              "      <td>33400.0</td>\n",
              "      <td>0.0000</td>\n",
              "      <td>0.000</td>\n",
              "      <td>1.000</td>\n",
              "      <td>0.000</td>\n",
              "    </tr>\n",
              "    <tr>\n",
              "      <th>...</th>\n",
              "      <td>...</td>\n",
              "      <td>...</td>\n",
              "      <td>...</td>\n",
              "      <td>...</td>\n",
              "      <td>...</td>\n",
              "      <td>...</td>\n",
              "      <td>...</td>\n",
              "      <td>...</td>\n",
              "      <td>...</td>\n",
              "    </tr>\n",
              "    <tr>\n",
              "      <th>2020-12-23</th>\n",
              "      <td>118.089996</td>\n",
              "      <td>119.220001</td>\n",
              "      <td>117.930000</td>\n",
              "      <td>118.480003</td>\n",
              "      <td>173800.0</td>\n",
              "      <td>-0.9995</td>\n",
              "      <td>0.117</td>\n",
              "      <td>0.804</td>\n",
              "      <td>0.078</td>\n",
              "    </tr>\n",
              "    <tr>\n",
              "      <th>2020-12-24</th>\n",
              "      <td>119.010002</td>\n",
              "      <td>119.010002</td>\n",
              "      <td>117.260002</td>\n",
              "      <td>118.120003</td>\n",
              "      <td>67200.0</td>\n",
              "      <td>-0.9966</td>\n",
              "      <td>0.080</td>\n",
              "      <td>0.857</td>\n",
              "      <td>0.063</td>\n",
              "    </tr>\n",
              "    <tr>\n",
              "      <th>2020-12-28</th>\n",
              "      <td>118.970001</td>\n",
              "      <td>119.919998</td>\n",
              "      <td>118.139999</td>\n",
              "      <td>118.410004</td>\n",
              "      <td>144400.0</td>\n",
              "      <td>-0.9997</td>\n",
              "      <td>0.125</td>\n",
              "      <td>0.792</td>\n",
              "      <td>0.083</td>\n",
              "    </tr>\n",
              "    <tr>\n",
              "      <th>2020-12-29</th>\n",
              "      <td>118.779999</td>\n",
              "      <td>119.589996</td>\n",
              "      <td>117.760002</td>\n",
              "      <td>118.169998</td>\n",
              "      <td>207300.0</td>\n",
              "      <td>-0.9997</td>\n",
              "      <td>0.134</td>\n",
              "      <td>0.777</td>\n",
              "      <td>0.089</td>\n",
              "    </tr>\n",
              "    <tr>\n",
              "      <th>2020-12-30</th>\n",
              "      <td>118.410004</td>\n",
              "      <td>120.849998</td>\n",
              "      <td>118.059998</td>\n",
              "      <td>119.160004</td>\n",
              "      <td>235200.0</td>\n",
              "      <td>-0.9997</td>\n",
              "      <td>0.122</td>\n",
              "      <td>0.802</td>\n",
              "      <td>0.076</td>\n",
              "    </tr>\n",
              "  </tbody>\n",
              "</table>\n",
              "<p>4922 rows × 9 columns</p>\n",
              "</div>"
            ],
            "text/plain": [
              "                  Open        High         Low  ...  negative  neutral  positive\n",
              "2001-05-22   14.355000   14.450000   14.150000  ...     0.134    0.800     0.066\n",
              "2001-05-25   13.705000   13.775000   13.650000  ...     0.000    0.606     0.394\n",
              "2001-05-29   13.775000   13.875000   13.645000  ...     0.079    0.849     0.072\n",
              "2001-05-30   13.655000   13.660000   13.275000  ...     0.070    0.853     0.077\n",
              "2001-06-01   13.725000   13.800000   13.630000  ...     0.000    1.000     0.000\n",
              "...                ...         ...         ...  ...       ...      ...       ...\n",
              "2020-12-23  118.089996  119.220001  117.930000  ...     0.117    0.804     0.078\n",
              "2020-12-24  119.010002  119.010002  117.260002  ...     0.080    0.857     0.063\n",
              "2020-12-28  118.970001  119.919998  118.139999  ...     0.125    0.792     0.083\n",
              "2020-12-29  118.779999  119.589996  117.760002  ...     0.134    0.777     0.089\n",
              "2020-12-30  118.410004  120.849998  118.059998  ...     0.122    0.802     0.076\n",
              "\n",
              "[4922 rows x 9 columns]"
            ]
          },
          "metadata": {
            "tags": []
          },
          "execution_count": 23
        }
      ]
    },
    {
      "cell_type": "code",
      "metadata": {
        "id": "P46y2YCD1bju"
      },
      "source": [
        "#writing it to the disk\n",
        "df.to_csv(\"finalized_stock_data.csv\")"
      ],
      "execution_count": null,
      "outputs": []
    },
    {
      "cell_type": "markdown",
      "metadata": {
        "id": "dMQ9uB4sl-hq"
      },
      "source": [
        "**checking the finalized data**"
      ]
    },
    {
      "cell_type": "code",
      "metadata": {
        "colab": {
          "base_uri": "https://localhost:8080/"
        },
        "id": "sfiXpEITl1sz",
        "outputId": "d99eb400-e43a-4734-d88b-60f7dec4c447"
      },
      "source": [
        "#shape\n",
        "df.shape"
      ],
      "execution_count": null,
      "outputs": [
        {
          "output_type": "execute_result",
          "data": {
            "text/plain": [
              "(4922, 9)"
            ]
          },
          "metadata": {
            "tags": []
          },
          "execution_count": 25
        }
      ]
    },
    {
      "cell_type": "code",
      "metadata": {
        "colab": {
          "base_uri": "https://localhost:8080/"
        },
        "id": "sq1zeb92mEvS",
        "outputId": "64bd636b-b835-48bc-ff5e-5ef8faee5a7e"
      },
      "source": [
        "#info\n",
        "df.info()"
      ],
      "execution_count": null,
      "outputs": [
        {
          "output_type": "stream",
          "text": [
            "<class 'pandas.core.frame.DataFrame'>\n",
            "DatetimeIndex: 4922 entries, 2001-05-22 to 2020-12-30\n",
            "Data columns (total 9 columns):\n",
            " #   Column    Non-Null Count  Dtype  \n",
            "---  ------    --------------  -----  \n",
            " 0   Open      4922 non-null   float64\n",
            " 1   High      4922 non-null   float64\n",
            " 2   Low       4922 non-null   float64\n",
            " 3   Close     4922 non-null   float64\n",
            " 4   Volume    4922 non-null   float64\n",
            " 5   compound  4922 non-null   float64\n",
            " 6   negative  4922 non-null   float64\n",
            " 7   neutral   4922 non-null   float64\n",
            " 8   positive  4922 non-null   float64\n",
            "dtypes: float64(9)\n",
            "memory usage: 384.5 KB\n"
          ],
          "name": "stdout"
        }
      ]
    },
    {
      "cell_type": "code",
      "metadata": {
        "colab": {
          "base_uri": "https://localhost:8080/"
        },
        "id": "XKeJ3Xt-mEyx",
        "outputId": "377771fd-aee8-49d4-f73e-d4511a6b68a1"
      },
      "source": [
        "#checking for missing values\n",
        "df.isna().sum()"
      ],
      "execution_count": null,
      "outputs": [
        {
          "output_type": "execute_result",
          "data": {
            "text/plain": [
              "Open        0\n",
              "High        0\n",
              "Low         0\n",
              "Close       0\n",
              "Volume      0\n",
              "compound    0\n",
              "negative    0\n",
              "neutral     0\n",
              "positive    0\n",
              "dtype: int64"
            ]
          },
          "metadata": {
            "tags": []
          },
          "execution_count": 27
        }
      ]
    },
    {
      "cell_type": "code",
      "metadata": {
        "colab": {
          "base_uri": "https://localhost:8080/",
          "height": 325
        },
        "id": "hOCKEvBumC6i",
        "outputId": "9e11d58f-a9f7-46b3-b088-24b941365344"
      },
      "source": [
        "\n",
        "#data description\n",
        "df.describe().T"
      ],
      "execution_count": null,
      "outputs": [
        {
          "output_type": "execute_result",
          "data": {
            "text/html": [
              "<div>\n",
              "<style scoped>\n",
              "    .dataframe tbody tr th:only-of-type {\n",
              "        vertical-align: middle;\n",
              "    }\n",
              "\n",
              "    .dataframe tbody tr th {\n",
              "        vertical-align: top;\n",
              "    }\n",
              "\n",
              "    .dataframe thead th {\n",
              "        text-align: right;\n",
              "    }\n",
              "</style>\n",
              "<table border=\"1\" class=\"dataframe\">\n",
              "  <thead>\n",
              "    <tr style=\"text-align: right;\">\n",
              "      <th></th>\n",
              "      <th>count</th>\n",
              "      <th>mean</th>\n",
              "      <th>std</th>\n",
              "      <th>min</th>\n",
              "      <th>25%</th>\n",
              "      <th>50%</th>\n",
              "      <th>75%</th>\n",
              "      <th>max</th>\n",
              "    </tr>\n",
              "  </thead>\n",
              "  <tbody>\n",
              "    <tr>\n",
              "      <th>Open</th>\n",
              "      <td>4922.0</td>\n",
              "      <td>52.436906</td>\n",
              "      <td>27.842580</td>\n",
              "      <td>6.740</td>\n",
              "      <td>29.152499</td>\n",
              "      <td>53.310000</td>\n",
              "      <td>72.344999</td>\n",
              "      <td>1.226500e+02</td>\n",
              "    </tr>\n",
              "    <tr>\n",
              "      <th>High</th>\n",
              "      <td>4922.0</td>\n",
              "      <td>53.135659</td>\n",
              "      <td>28.091754</td>\n",
              "      <td>6.970</td>\n",
              "      <td>29.857500</td>\n",
              "      <td>53.949999</td>\n",
              "      <td>73.077502</td>\n",
              "      <td>1.230900e+02</td>\n",
              "    </tr>\n",
              "    <tr>\n",
              "      <th>Low</th>\n",
              "      <td>4922.0</td>\n",
              "      <td>51.710213</td>\n",
              "      <td>27.591934</td>\n",
              "      <td>6.575</td>\n",
              "      <td>28.541250</td>\n",
              "      <td>52.485001</td>\n",
              "      <td>71.610001</td>\n",
              "      <td>1.209200e+02</td>\n",
              "    </tr>\n",
              "    <tr>\n",
              "      <th>Close</th>\n",
              "      <td>4922.0</td>\n",
              "      <td>52.429516</td>\n",
              "      <td>27.834587</td>\n",
              "      <td>6.740</td>\n",
              "      <td>29.450000</td>\n",
              "      <td>53.229999</td>\n",
              "      <td>72.367503</td>\n",
              "      <td>1.226500e+02</td>\n",
              "    </tr>\n",
              "    <tr>\n",
              "      <th>Volume</th>\n",
              "      <td>4922.0</td>\n",
              "      <td>653245.611540</td>\n",
              "      <td>519352.389760</td>\n",
              "      <td>9400.000</td>\n",
              "      <td>338800.000000</td>\n",
              "      <td>526400.000000</td>\n",
              "      <td>823775.000000</td>\n",
              "      <td>5.155700e+06</td>\n",
              "    </tr>\n",
              "    <tr>\n",
              "      <th>compound</th>\n",
              "      <td>4922.0</td>\n",
              "      <td>-0.884967</td>\n",
              "      <td>0.431673</td>\n",
              "      <td>-1.000</td>\n",
              "      <td>-0.999800</td>\n",
              "      <td>-0.999200</td>\n",
              "      <td>-0.995000</td>\n",
              "      <td>1.000000e+00</td>\n",
              "    </tr>\n",
              "    <tr>\n",
              "      <th>negative</th>\n",
              "      <td>4922.0</td>\n",
              "      <td>0.125918</td>\n",
              "      <td>0.022928</td>\n",
              "      <td>0.000</td>\n",
              "      <td>0.112000</td>\n",
              "      <td>0.127000</td>\n",
              "      <td>0.141000</td>\n",
              "      <td>4.000000e-01</td>\n",
              "    </tr>\n",
              "    <tr>\n",
              "      <th>neutral</th>\n",
              "      <td>4922.0</td>\n",
              "      <td>0.788348</td>\n",
              "      <td>0.031575</td>\n",
              "      <td>0.000</td>\n",
              "      <td>0.768000</td>\n",
              "      <td>0.785000</td>\n",
              "      <td>0.806000</td>\n",
              "      <td>1.000000e+00</td>\n",
              "    </tr>\n",
              "    <tr>\n",
              "      <th>positive</th>\n",
              "      <td>4922.0</td>\n",
              "      <td>0.085742</td>\n",
              "      <td>0.018738</td>\n",
              "      <td>0.000</td>\n",
              "      <td>0.075000</td>\n",
              "      <td>0.085000</td>\n",
              "      <td>0.096000</td>\n",
              "      <td>6.000000e-01</td>\n",
              "    </tr>\n",
              "  </tbody>\n",
              "</table>\n",
              "</div>"
            ],
            "text/plain": [
              "           count           mean  ...            75%           max\n",
              "Open      4922.0      52.436906  ...      72.344999  1.226500e+02\n",
              "High      4922.0      53.135659  ...      73.077502  1.230900e+02\n",
              "Low       4922.0      51.710213  ...      71.610001  1.209200e+02\n",
              "Close     4922.0      52.429516  ...      72.367503  1.226500e+02\n",
              "Volume    4922.0  653245.611540  ...  823775.000000  5.155700e+06\n",
              "compound  4922.0      -0.884967  ...      -0.995000  1.000000e+00\n",
              "negative  4922.0       0.125918  ...       0.141000  4.000000e-01\n",
              "neutral   4922.0       0.788348  ...       0.806000  1.000000e+00\n",
              "positive  4922.0       0.085742  ...       0.096000  6.000000e-01\n",
              "\n",
              "[9 rows x 8 columns]"
            ]
          },
          "metadata": {
            "tags": []
          },
          "execution_count": 28
        }
      ]
    },
    {
      "cell_type": "markdown",
      "metadata": {
        "id": "8Gq-oLoJmV1l"
      },
      "source": [
        "# **EDA of the finalized stock data**"
      ]
    },
    {
      "cell_type": "markdown",
      "metadata": {
        "id": "Me_7fXCsmhdL"
      },
      "source": [
        "**Visualizing the opening and closing prices of the stock**"
      ]
    },
    {
      "cell_type": "code",
      "metadata": {
        "colab": {
          "base_uri": "https://localhost:8080/",
          "height": 345
        },
        "id": "_vjCEMdDmmIo",
        "outputId": "a45d1deb-db3e-4f8d-de82-8f147296668a"
      },
      "source": [
        "fig,ax=plt.subplots(1,2,figsize=(20,6))\n",
        "sns.lineplot(data=df,x=df.index,y=\"Open\",ax=ax[0],color=\"y\").set_title(\"Opening prices\")\n",
        "sns.lineplot(data=df,x=df.index,y=\"Close\",ax=ax[1],color=\"r\").set_title(\"Closing prices\")\n"
      ],
      "execution_count": null,
      "outputs": [
        {
          "output_type": "execute_result",
          "data": {
            "text/plain": [
              "Text(0.5, 1.0, 'Closing prices')"
            ]
          },
          "metadata": {
            "tags": []
          },
          "execution_count": 29
        },
        {
          "output_type": "display_data",
          "data": {
            "image/png": "[encoded data removed]",
            "text/plain": [
              "<Figure size 1440x432 with 2 Axes>"
            ]
          },
          "metadata": {
            "tags": [],
            "needs_background": "light"
          }
        }
      ]
    },
    {
      "cell_type": "markdown",
      "metadata": {
        "id": "LQSbhYMZrKEw"
      },
      "source": [
        "# **Data preprocessing for modelling**"
      ]
    },
    {
      "cell_type": "code",
      "metadata": {
        "id": "BYo0xR1prLy4"
      },
      "source": [
        "#splitting the data into input and target variables\n",
        "x=df\n",
        "y=df[\"Close\"]\n",
        "#splitting the data into train set and test set\n",
        "training_set=x.iloc[:4000].values\n",
        "test_set=x.iloc[4000:].values"
      ],
      "execution_count": null,
      "outputs": []
    },
    {
      "cell_type": "code",
      "metadata": {
        "id": "cQTisLlzrhfk"
      },
      "source": [
        "\n",
        "#scaling the input features with the help of standard scaler\n",
        "sc=MinMaxScaler()\n",
        "training_set_scaled=sc.fit_transform(training_set)\n",
        "test_set_scaled=sc.fit_transform(test_set)"
      ],
      "execution_count": null,
      "outputs": []
    },
    {
      "cell_type": "code",
      "metadata": {
        "id": "UqcXCD7crmY8"
      },
      "source": [
        "\n",
        "# the model will look into past 100 timesteps predict the next feature and will continue to do so\n",
        "length=100\n",
        "#the training set creation\n",
        "x_train=[]\n",
        "y_train=[]\n",
        "for i in range(length,len(training_set)):\n",
        "    x_train.append(training_set_scaled[i-length:i,0])\n",
        "    y_train.append(training_set_scaled[i,0])\n",
        "#converting train set into array\n",
        "x_train,y_train=np.array(x_train),np.array(y_train)\n",
        "x_train=np.reshape(x_train,(x_train.shape[0],x_train.shape[1],1))\n",
        "\n",
        "\n",
        "# The testing set creation\n",
        "x_test=[]\n",
        "y_test=[]\n",
        "for i in range(length,len(test_set)):\n",
        "    x_test.append(test_set_scaled[i-length:i,0])\n",
        "    y_test.append(test_set_scaled[i,0])\n",
        "# converting test set into array\n",
        "x_test,y_test=np.array(x_test),np.array(y_test)\n",
        "x_test=np.reshape(x_test,(x_test.shape[0],x_test.shape[1],1))"
      ],
      "execution_count": null,
      "outputs": []
    },
    {
      "cell_type": "code",
      "metadata": {
        "colab": {
          "base_uri": "https://localhost:8080/"
        },
        "id": "UNZnPw25rpyJ",
        "outputId": "3b8214b2-367b-43a2-ad44-e9980dfe9c49"
      },
      "source": [
        "#checking the shape of the created datastructures\n",
        "x_train.shape,y_train.shape,x_test.shape,y_test.shape"
      ],
      "execution_count": null,
      "outputs": [
        {
          "output_type": "execute_result",
          "data": {
            "text/plain": [
              "((3900, 100, 1), (3900,), (822, 100, 1), (822,))"
            ]
          },
          "metadata": {
            "tags": []
          },
          "execution_count": 33
        }
      ]
    },
    {
      "cell_type": "markdown",
      "metadata": {
        "id": "mHFC9z6W2w7e"
      },
      "source": [
        "# **Modelling**"
      ]
    },
    {
      "cell_type": "code",
      "metadata": {
        "colab": {
          "base_uri": "https://localhost:8080/"
        },
        "id": "5961Pyy-rseA",
        "outputId": "c50fe1ed-26b1-405e-f047-57e11bfdd028"
      },
      "source": [
        "# setting the model architecture\n",
        "model=Sequential()\n",
        "model.add(LSTM(units=100,return_sequences=True,input_shape=(x_train.shape[1], 1),activation=\"tanh\"))\n",
        "model.add(Dropout(0.2))\n",
        "model.add(LSTM(units=100,return_sequences=True,activation=\"tanh\"))\n",
        "model.add(Dropout(0.2))\n",
        "model.add(LSTM(units=100,return_sequences=False,activation=\"tanh\"))\n",
        "model.add(Dropout(0.2))\n",
        "model.add(Dense(1))\n",
        "#printing model summary\n",
        "model.summary()"
      ],
      "execution_count": null,
      "outputs": [
        {
          "output_type": "stream",
          "text": [
            "Model: \"sequential\"\n",
            "_________________________________________________________________\n",
            "Layer (type)                 Output Shape              Param #   \n",
            "=================================================================\n",
            "lstm (LSTM)                  (None, 100, 100)          40800     \n",
            "_________________________________________________________________\n",
            "dropout (Dropout)            (None, 100, 100)          0         \n",
            "_________________________________________________________________\n",
            "lstm_1 (LSTM)                (None, 100, 100)          80400     \n",
            "_________________________________________________________________\n",
            "dropout_1 (Dropout)          (None, 100, 100)          0         \n",
            "_________________________________________________________________\n",
            "lstm_2 (LSTM)                (None, 100)               80400     \n",
            "_________________________________________________________________\n",
            "dropout_2 (Dropout)          (None, 100)               0         \n",
            "_________________________________________________________________\n",
            "dense (Dense)                (None, 1)                 101       \n",
            "=================================================================\n",
            "Total params: 201,701\n",
            "Trainable params: 201,701\n",
            "Non-trainable params: 0\n",
            "_________________________________________________________________\n"
          ],
          "name": "stdout"
        }
      ]
    },
    {
      "cell_type": "code",
      "metadata": {
        "colab": {
          "base_uri": "https://localhost:8080/"
        },
        "id": "4-dMuZ-Xrvij",
        "outputId": "e54e508b-459d-4143-9112-066ff749d71b"
      },
      "source": [
        "# introducing early stopping if val loss doesn't go down for 4 iterations\n",
        "es=EarlyStopping(monitor=\"val_loss\",patience=4,mode=\"min\")\n",
        "#compiling\n",
        "model.compile(optimizer=\"adam\",loss=\"mse\")\n",
        "#fitting the model\n",
        "history=model.fit(x_train,y_train,validation_data=(x_test,y_test),epochs=10,batch_size=22,shuffle=False,callbacks=[es])"
      ],
      "execution_count": null,
      "outputs": [
        {
          "output_type": "stream",
          "text": [
            "Epoch 1/10\n",
            "178/178 [==============================] - 50s 253ms/step - loss: 0.0032 - val_loss: 0.0047\n",
            "Epoch 2/10\n",
            "178/178 [==============================] - 44s 246ms/step - loss: 0.0018 - val_loss: 0.0069\n",
            "Epoch 3/10\n",
            "178/178 [==============================] - 44s 245ms/step - loss: 0.0023 - val_loss: 0.0069\n",
            "Epoch 4/10\n",
            "178/178 [==============================] - 44s 249ms/step - loss: 0.0015 - val_loss: 0.0055\n",
            "Epoch 5/10\n",
            "178/178 [==============================] - 44s 245ms/step - loss: 0.0014 - val_loss: 0.0029\n",
            "Epoch 6/10\n",
            "178/178 [==============================] - 43s 244ms/step - loss: 0.0015 - val_loss: 0.0057\n",
            "Epoch 7/10\n",
            "178/178 [==============================] - 44s 246ms/step - loss: 0.0015 - val_loss: 0.0046\n",
            "Epoch 8/10\n",
            "178/178 [==============================] - 44s 246ms/step - loss: 0.0013 - val_loss: 0.0032\n",
            "Epoch 9/10\n",
            "178/178 [==============================] - 44s 246ms/step - loss: 0.0013 - val_loss: 0.0030\n"
          ],
          "name": "stdout"
        }
      ]
    },
    {
      "cell_type": "code",
      "metadata": {
        "colab": {
          "base_uri": "https://localhost:8080/",
          "height": 353
        },
        "id": "ifxAgAcosxHF",
        "outputId": "c4897047-5d20-48e6-9bf9-db3e88f7a235"
      },
      "source": [
        "#creating the dataframe contaning the validation loss and  train_inver_transform\n",
        "loss=pd.DataFrame(model.history.history)\n",
        "plt.figure(figsize=(15,5))\n",
        "plt.plot(loss)\n",
        "plt.title(\"losses vs epochs\")\n",
        "plt.legend([\"train_loss\",\"validation_loss\"])"
      ],
      "execution_count": null,
      "outputs": [
        {
          "output_type": "execute_result",
          "data": {
            "text/plain": [
              "<matplotlib.legend.Legend at 0x7f08f422b1d0>"
            ]
          },
          "metadata": {
            "tags": []
          },
          "execution_count": 37
        },
        {
          "output_type": "display_data",
          "data": {
            "image/png": "[encoded data removed]",
            "text/plain": [
              "<Figure size 1080x360 with 1 Axes>"
            ]
          },
          "metadata": {
            "tags": [],
            "needs_background": "light"
          }
        }
      ]
    },
    {
      "cell_type": "code",
      "metadata": {
        "colab": {
          "base_uri": "https://localhost:8080/"
        },
        "id": "qjO1F4y3uksX",
        "outputId": "ce7ef90b-10e1-4abe-fcce-5bfcd4d1d18e"
      },
      "source": [
        "#saving model to the disk as json file\n",
        "model_json=model.to_json()\n",
        "with open(\"model.json\",\"w\") as json_file:\n",
        "    json_file.write(model_json)\n",
        "\n",
        "#serialize weights to HDF5\n",
        "model.save_weights(\"model.h5\")\n",
        "print(\"model saved to the disk\")"
      ],
      "execution_count": null,
      "outputs": [
        {
          "output_type": "stream",
          "text": [
            "model saved to the disk\n"
          ],
          "name": "stdout"
        }
      ]
    },
    {
      "cell_type": "code",
      "metadata": {
        "id": "QKlQVke3urKF"
      },
      "source": [
        "#predicting through the model\n",
        "pred=model.predict(x_test)"
      ],
      "execution_count": null,
      "outputs": []
    },
    {
      "cell_type": "code",
      "metadata": {
        "colab": {
          "base_uri": "https://localhost:8080/"
        },
        "id": "ex0kAjz6uuEZ",
        "outputId": "3c3af122-c014-4a71-9683-c0331c1b587d"
      },
      "source": [
        "#checking the scales and comparing it with our closing price column\n",
        "sc.scale_,df_stock"
      ],
      "execution_count": null,
      "outputs": [
        {
          "output_type": "execute_result",
          "data": {
            "text/plain": [
              "(array([1.86532360e-02, 1.87969935e-02, 1.90621429e-02, 1.86776239e-02,\n",
              "        5.66219353e-07, 5.00075011e-01, 7.63358779e+00, 7.19424460e+00,\n",
              "        1.21951220e+01]),\n",
              "                   Open        High         Low       Close  Volume\n",
              " Date                                                              \n",
              " 2001-01-02   12.437500   12.468750   12.000000   12.062500   28200\n",
              " 2001-01-03   12.062500   12.500000   12.000000   12.250000   29400\n",
              " 2001-01-04   12.250000   12.312500   12.156250   12.250000   17800\n",
              " 2001-01-05   12.187500   12.187500   11.750000   11.781250   35600\n",
              " 2001-01-08   11.750000   11.812500   11.687500   11.812500   58600\n",
              " ...                ...         ...         ...         ...     ...\n",
              " 2020-12-23  118.089996  119.220001  117.930000  118.480003  173800\n",
              " 2020-12-24  119.010002  119.010002  117.260002  118.120003   67200\n",
              " 2020-12-28  118.970001  119.919998  118.139999  118.410004  144400\n",
              " 2020-12-29  118.779999  119.589996  117.760002  118.169998  207300\n",
              " 2020-12-30  118.410004  120.849998  118.059998  119.160004  235200\n",
              " \n",
              " [5031 rows x 5 columns])"
            ]
          },
          "metadata": {
            "tags": []
          },
          "execution_count": 40
        }
      ]
    },
    {
      "cell_type": "code",
      "metadata": {
        "id": "4M0IGsdHxU55"
      },
      "source": [
        "# the 4th column is \"close\" so we should scale our values by the 4th value(corresponding value) in the scale array\n",
        "scale=1/9.88704046e-03\n",
        "#scaling the predicted values\n",
        "pred=pred*scale\n",
        "#scaling the test values\n",
        "test=y_test*scale"
      ],
      "execution_count": null,
      "outputs": []
    },
    {
      "cell_type": "code",
      "metadata": {
        "colab": {
          "base_uri": "https://localhost:8080/",
          "height": 356
        },
        "id": "6hClsGCcuyiy",
        "outputId": "bea02c24-eb3c-4296-b9e8-265884b08cc6"
      },
      "source": [
        "#creating the dataframe of test values vs predicted values\n",
        "test_vs_pred=pd.DataFrame(columns=[\"test\",\"pred\"])\n",
        "test_vs_pred[\"test\"]=test\n",
        "test_vs_pred[\"pred\"]=pred.flatten()\n",
        "#checking the dataframne created\n",
        "test_vs_pred.head(10)"
      ],
      "execution_count": null,
      "outputs": [
        {
          "output_type": "execute_result",
          "data": {
            "text/html": [
              "<div>\n",
              "<style scoped>\n",
              "    .dataframe tbody tr th:only-of-type {\n",
              "        vertical-align: middle;\n",
              "    }\n",
              "\n",
              "    .dataframe tbody tr th {\n",
              "        vertical-align: top;\n",
              "    }\n",
              "\n",
              "    .dataframe thead th {\n",
              "        text-align: right;\n",
              "    }\n",
              "</style>\n",
              "<table border=\"1\" class=\"dataframe\">\n",
              "  <thead>\n",
              "    <tr style=\"text-align: right;\">\n",
              "      <th></th>\n",
              "      <th>test</th>\n",
              "      <th>pred</th>\n",
              "    </tr>\n",
              "  </thead>\n",
              "  <tbody>\n",
              "    <tr>\n",
              "      <th>0</th>\n",
              "      <td>10.942473</td>\n",
              "      <td>11.648074</td>\n",
              "    </tr>\n",
              "    <tr>\n",
              "      <th>1</th>\n",
              "      <td>11.338680</td>\n",
              "      <td>11.985402</td>\n",
              "    </tr>\n",
              "    <tr>\n",
              "      <th>2</th>\n",
              "      <td>14.187489</td>\n",
              "      <td>12.401765</td>\n",
              "    </tr>\n",
              "    <tr>\n",
              "      <th>3</th>\n",
              "      <td>13.659233</td>\n",
              "      <td>13.613659</td>\n",
              "    </tr>\n",
              "    <tr>\n",
              "      <th>4</th>\n",
              "      <td>13.659233</td>\n",
              "      <td>14.864287</td>\n",
              "    </tr>\n",
              "    <tr>\n",
              "      <th>5</th>\n",
              "      <td>17.319309</td>\n",
              "      <td>15.683619</td>\n",
              "    </tr>\n",
              "    <tr>\n",
              "      <th>6</th>\n",
              "      <td>16.300524</td>\n",
              "      <td>17.096912</td>\n",
              "    </tr>\n",
              "    <tr>\n",
              "      <th>7</th>\n",
              "      <td>16.168461</td>\n",
              "      <td>18.284420</td>\n",
              "    </tr>\n",
              "    <tr>\n",
              "      <th>8</th>\n",
              "      <td>15.753398</td>\n",
              "      <td>18.874111</td>\n",
              "    </tr>\n",
              "    <tr>\n",
              "      <th>9</th>\n",
              "      <td>13.715830</td>\n",
              "      <td>18.820690</td>\n",
              "    </tr>\n",
              "  </tbody>\n",
              "</table>\n",
              "</div>"
            ],
            "text/plain": [
              "        test       pred\n",
              "0  10.942473  11.648074\n",
              "1  11.338680  11.985402\n",
              "2  14.187489  12.401765\n",
              "3  13.659233  13.613659\n",
              "4  13.659233  14.864287\n",
              "5  17.319309  15.683619\n",
              "6  16.300524  17.096912\n",
              "7  16.168461  18.284420\n",
              "8  15.753398  18.874111\n",
              "9  13.715830  18.820690"
            ]
          },
          "metadata": {
            "tags": []
          },
          "execution_count": 42
        }
      ]
    },
    {
      "cell_type": "code",
      "metadata": {
        "colab": {
          "base_uri": "https://localhost:8080/",
          "height": 461
        },
        "id": "-n4qb3BIxBTf",
        "outputId": "086b59a7-7b83-4e8a-e818-a26c0f56223f"
      },
      "source": [
        "#the lineplot\n",
        "plt.figure(figsize=(15,7))\n",
        "plt.plot(test_vs_pred)\n",
        "plt.title(\"Test values vs Predicted values\")\n",
        "plt.legend([\"test\",\"pred\"])\n",
        "#calculating the losses\n",
        "r2=np.round(r2_score(test,pred),2)\n",
        "mse=np.round(mean_squared_error(test,pred),2)\n",
        "#incorporating the losses in the plot\n",
        "plt.text(x=700,y=17,s=\"R2 score:{}\".format(r2))\n",
        "plt.text(x=700,y=22,s=\"MSE:{}\".format(mse))"
      ],
      "execution_count": null,
      "outputs": [
        {
          "output_type": "execute_result",
          "data": {
            "text/plain": [
              "Text(700, 22, 'MSE:30.24')"
            ]
          },
          "metadata": {
            "tags": []
          },
          "execution_count": 43
        },
        {
          "output_type": "display_data",
          "data": {
            "image/png": "[encoded data removed]",
            "text/plain": [
              "<Figure size 1080x504 with 1 Axes>"
            ]
          },
          "metadata": {
            "tags": [],
            "needs_background": "light"
          }
        }
      ]
    },
    {
      "cell_type": "code",
      "metadata": {
        "id": "3oee09jh2psU"
      },
      "source": [
        ""
      ],
      "execution_count": null,
      "outputs": []
    }
  ]
}