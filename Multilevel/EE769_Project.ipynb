{
  "nbformat": 4,
  "nbformat_minor": 0,
  "metadata": {
    "colab": {
      "name": "EE769_Project.ipynb",
      "provenance": [],
      "collapsed_sections": []
    },
    "kernelspec": {
      "name": "python3",
      "display_name": "Python 3"
    },
    "accelerator": "GPU"
  },
  "cells": [
    {
      "cell_type": "markdown",
      "metadata": {
        "id": "UpDNWPFs3VXS"
      },
      "source": [
        "# Importing the libraries"
      ]
    },
    {
      "cell_type": "code",
      "metadata": {
        "colab": {
          "base_uri": "https://localhost:8080/",
          "height": 0
        },
        "id": "OzAi-_UIFSGS",
        "outputId": "3f77f7e9-dd11-44f9-fccd-a83e9ea7bbfc"
      },
      "source": [
        "#importing the libraries:\n",
        "from  bs4  import BeautifulSoup\n",
        "from urllib.request import Request,urlopen\n",
        "import nltk\n",
        "nltk.download('punkt')\n",
        "import requests \n",
        "import re\n",
        "import pandas as pd\n",
        "import numpy"
      ],
      "execution_count": 2,
      "outputs": [
        {
          "output_type": "stream",
          "text": [
            "[nltk_data] Downloading package punkt to /root/nltk_data...\n",
            "[nltk_data]   Unzipping tokenizers/punkt.zip.\n"
          ],
          "name": "stdout"
        }
      ]
    },
    {
      "cell_type": "markdown",
      "metadata": {
        "id": "xUjvQpLrCCuA"
      },
      "source": [
        "# Creating function to extract Q&A from the website"
      ]
    },
    {
      "cell_type": "code",
      "metadata": {
        "id": "kqz3xalEFScR"
      },
      "source": [
        "# function to extract question and answer from the provided url.\n",
        "#Input to this fuction are url,tag and class:\n",
        "def qustn_answr_extract(link,tag,g_class):\n",
        "  q_list=[]\n",
        "  a_list=[]\n",
        "  url=link\n",
        "  req=Request(url,headers={'User-Agent': 'Mozilla/5.0 (X11; Linux x86_64) '\\\n",
        "            'AppleWebKit/537.36 (KHTML, like Gecko) '\\\n",
        "            'Chrome/75.0.3770.80 Safari/537.36'})\n",
        "\n",
        "  page = urlopen(req).read()\n",
        "  soup = BeautifulSoup(page, 'html.parser')\n",
        "  sent = list(soup.find_all(tag,class_ =g_class))\n",
        " \n",
        "  rx =r\"\\.(?=\\S)\"\n",
        "  rx1=r\"\\?(?=\\S)\"\n",
        "  \n",
        "\n",
        "  para=[' '.join(list(map(lambda x:x.text.strip().replace('\\n',' '),sent)))]\n",
        "\n",
        "  for text in para:\n",
        "      q_sent = nltk.sent_tokenize(text)\n",
        "      a_sent=q_sent.copy()\n",
        "      i=0\n",
        "      z=0\n",
        "      while i<len(q_sent): #Extrating question:\n",
        "          temp1_list=[]\n",
        "          q_sent[i]=re.sub(rx,\". \",q_sent[i])\n",
        "          q_sent[i]=re.sub(rx1,\"? \",q_sent[i])\n",
        "          if q_sent[i][-1]=='?':\n",
        "              temp1_list.append(q_sent[i])\n",
        "              j=i+1\n",
        "              while j<len(q_sent):\n",
        "                  if q_sent[j][-1]=='?':\n",
        "                      temp1_list.append(q_sent[j])\n",
        "                      q_sent.remove(q_sent[j])\n",
        "                  else:\n",
        "                      break\n",
        "                  \n",
        "              q_list.append(' '.join(temp1_list)) \n",
        "          i+=1 \n",
        "          \n",
        "      while z<len(a_sent): #Extracting Answers:\n",
        "          temp2_list=[]\n",
        "          a_sent[z]=re.sub(rx,\". \",a_sent[z])\n",
        "          a_sent[z]=re.sub(rx1,\"? \",a_sent[z])\n",
        "          if a_sent[z][-1]=='.' and a_sent[z-1][-1]=='?':\n",
        "              temp2_list.append(a_sent[z])\n",
        "              j=z+1\n",
        "              while j<len(a_sent):\n",
        "                  if a_sent[j][-1]=='.':\n",
        "                      temp2_list.append(a_sent[j])\n",
        "                      a_sent.remove(a_sent[j])\n",
        "                  else:\n",
        "                      break\n",
        "              a_list.append(' '.join(temp2_list))\n",
        "          z+=1      \n",
        "  \n",
        "  return q_list, a_list"
      ],
      "execution_count": 3,
      "outputs": []
    },
    {
      "cell_type": "code",
      "metadata": {
        "id": "e-bwD0PrFf6Q"
      },
      "source": [
        "#question and answer extraction using the above function from mirraw.com\n",
        "questn_ans=qustn_answr_extract('https://www.mirraw.com/pages/faq','div','faq_qas_block') #calling above function with input\n"
      ],
      "execution_count": 4,
      "outputs": []
    },
    {
      "cell_type": "code",
      "metadata": {
        "id": "PeY5y7q1081j",
        "colab": {
          "base_uri": "https://localhost:8080/",
          "height": 0
        },
        "outputId": "c1e1e6ae-960d-4b9d-b896-870ec13b81f1"
      },
      "source": [
        "#question and answer extraction using the above function from koovs.com\n",
        "\n",
        "qustn_answr_extract('https://www.koovs.com/info/faq#whyReg', 'div','faqBrief')\n"
      ],
      "execution_count": 5,
      "outputs": [
        {
          "output_type": "execute_result",
          "data": {
            "text/plain": [
              "(['To shop at KOOVS. COM do I have to register? If yes, why?',\n",
              "  'How do I register myself?',\n",
              "  'Do I need to give my email ID and mobile number for registration?',\n",
              "  'Is my personal information secure at KOOVS. COM?',\n",
              "  'Do I need to pay for registration?',\n",
              "  'For how long is my registration valid?',\n",
              "  'I forgot my password, what do I do?',\n",
              "  'If I need to update my account information, what steps do I follow?',\n",
              "  'How do I unsubscribe from your promotional Emails?',\n",
              "  'Is it possible?',\n",
              "  'Which category products do you sell online?',\n",
              "  'How do I know my size?',\n",
              "  'Do you provide warranty/guarantee for merchandise?',\n",
              "  'Why is that so?',\n",
              "  'How do I add more products to my order?',\n",
              "  'How can I use a voucher in the ‘My Account’ section to place an order?',\n",
              "  'What are the shipping charges I need to pay for an order under INR 1199?',\n",
              "  'Is there a limit to the quantity that I can order?',\n",
              "  'How do I apply the refund voucher provided to me?',\n",
              "  'Do you take orders over phone?',\n",
              "  'What happens next?',\n",
              "  'Why do I sometime see price variations on same product? What is the KOOVS.COM pricing policy?',\n",
              "  'What payment methods are accepted at KOOVS. COM?',\n",
              "  'Why is tax being charged?',\n",
              "  'Is it safe to shop online using my debit/credit card?',\n",
              "  'What happens if my debit/credit card has been compromised while making a payment online?',\n",
              "  'What happens to my money deducted from my debit card/credit card/Net Banking for an unsuccessful order?',\n",
              "  'What happens if the merchandise added to cart goes out of stock?',\n",
              "  'You will not be able to place order with out of stock product/s Can I cancel an order?',\n",
              "  'Can I cancel my exchange order?',\n",
              "  'Why was my order cancelled by KOOVS. COM?',\n",
              "  'Can I cancel a partial order?',\n",
              "  'Do you deliver out of India?',\n",
              "  'What happens if I am not available when you deliver the merchandise?',\n",
              "  'Can I book an order for delivery to more than one address?',\n",
              "  'What are the shipping charges and/or are there any additional charges?',\n",
              "  'How can I track my order?',\n",
              "  'What is the stipulated delivery time for an order?',\n",
              "  'What is the validity of a promotional voucher?',\n",
              "  'Can I use this voucher on all items?',\n",
              "  'The brands are as below:-  COVER STORY HEY FILA NBNW RIG INDIGO NATION SCULLERS SCULLER FOR HER JEALOUS CONVERSE BUFFALO BARE UMM CHAMPION JEALOUS 21 Lee Cooper SKULT by Shahid Kapoor   What are the terms and condition of this voucher?',\n",
              "  'Where do I apply the promotional voucher?',\n",
              "  'Can I club two vouchers?',\n",
              "  'How do I return the product/s?',\n",
              "  'How do I exchange the product/s?',\n",
              "  'When will my exchange item be shipped?',\n",
              "  'What categories fall under non-returnable categories?',\n",
              "  'Sleepwear Lingerie Swimwear Beachwear Accessories Beauty products Socks Any freebies  What should I do if my order is received in a damaged condition?',\n",
              "  'What should I do if I receive a different item from the one that I have ordered?',\n",
              "  'Why do I need to self-ship?',\n",
              "  'Will I receive a voucher/s in case of self-shipped product/s?',\n",
              "  'Where do I need to self-ship my products?',\n",
              "  'What should I do? Normally it takes 3 to 4 working days for a reverse pick but in case no courier partner has contacted you please feel free to contact us at 0124-6770000 10 am to 7 pm (Monday to Saturday) or email us at care@koovs.com I need to return more than one product, so can I hand over all the products to the reverse pick-up person in one go?',\n",
              "  'How do I do a partial return?',\n",
              "  'What are the refund options available to me?',\n",
              "  'How do I get my balance refund-voucher amount?',\n",
              "  'Will I get refund of my Shipping Charges in case of return?',\n",
              "  'How do I get in touch with KOOVS. COM? Please contact us at 0124-6770000 10 am to 7 pm (Monday to Saturday) or email us at care@koovs.com What are the Customer Care working hours?',\n",
              "  'Whom do I get in touch with?',\n",
              "  'Is there a bug bounty program at Koovs?'],\n",
              " ['You need to register at KOOVS. COM so that we can enhance your shopping experience every time you visit us. We keep you updated on your orders and refunds through SMS/email. Though we allow you to shop as a guest, we automatically register you.',\n",
              "  'You can register yourself by clicking on this Registration Link. Once registered, you can enjoy regular updates and services from KOOVS.COM.',\n",
              "  'Yes we will ask you for the details so that we can have your purchase delivered to you at your doorstep.',\n",
              "  'Please be rest assured that your information is secured with us. Please do refer to Privacy policy for further information.',\n",
              "  'It is absolutely free and you only pay for your purchases.',\n",
              "  'Once registered, you can come back to us anytime you want.',\n",
              "  'Simply generate a new password by clicking on “Forgot Password” option at sign in/log in page. An email with link to generate a new password will be sent to your registered email Id.',\n",
              "  'Login in to KOOVS. COM, click on “My Account” and update information under your profile.',\n",
              "  'Login in to KOOVS. COM, click on “My Account” and unsubscribe from my profile. I am based out of India and I want to place an order with a delivery address in India.',\n",
              "  'We will be happy to ship you the product/s if the pin code you have selected is serviceable by our courier partners.',\n",
              "  'KOOVS. COM is online fashion store catering to men and women fashion categories like apparels, shoes, accessories from brands and our own brand KOOVS.',\n",
              "  'We have provided size chart for each and every category which can be used for making a purchase. The size chart has US, UK and European sizes with conversions for easy references.',\n",
              "  \"All products are authentic and sourced directly from vendors/brands. If manufacture provides warranty/guarantee for product then it is mentioned specifically. I have placed an order but it’s not appearing in the ‘My Account' section.\",\n",
              "  'Unfortunately you can’t do that but you can always place a new order and we will be happy to deliver the same to you.',\n",
              "  'Add product/s to your cart and proceed to check out, and enter voucher code in apply promo code section.',\n",
              "  'All orders below INR 1199 will be levied a shipping charges of INR 199 which is non-refundable. In case of partial cancellation by customer if total cart value goes below the free shipping amount ,  KOOVS.COM reserves the right to recover the shipping charges of Rs. 199/-.',\n",
              "  'We do not want to restrict you from shopping at your favourite online fashion store and thus there are no restrictions on quantity that you can order.',\n",
              "  'Add product/s to your cart and proceed to check out, and enter voucher code in apply promo code section.',\n",
              "  'We are happy to do so and at present place only Cash On Delivery orders for you. My order is placed.',\n",
              "  'You will receive a CONFIRMATION email and SMS . We will try to dispatch your order within 24 to 48 hours from our warehouse and will keep you informed at every step. You can also track your order through our website from ‘My Account’ section. It sometimes takes up to 24 hours for the tracking to be updated after an order is handed over to the delivery service provider.',\n",
              "  \"There are a number of factors that determine a product's price. Prices and discounts are predefined for certain products in accordance with the brand guidelines. Any change in brand's price shall be reflected on our website as and when fresh stocks are purchased. Thus you may see certain products may be available at different prices at the same time. For our own KOOVS brand we keep on adding stocks to bestsellers and thus you may see price variations on the same product within a short span of time. We regularly launch End of Season Sales and promotional campaigns for our customers, where the prices may appear different for that period of time. Once the campaign is over the prices will be either restored back or may change again. KOOVS.COM reserves the rights to change prices at its sole discretion.\",\n",
              "  'We accept Master/Visa credit cards and all major Debit Cards. We also have an option of net banking and Cash on Delivery for our customers.',\n",
              "  'Tax is levied on the sale of any commodity, which here represents Good and Service Tax (GST). This tax is collected and deposited by KOOVS.COM to the relevant government authorities.',\n",
              "  \"When you shop with us you can conveniently keep all your worries and concerns behind. We strive to ensure a safe and secure shopping experience to our customers. To make sure that our customers' shopping experience is private, safe and secure, all Credit Card, Debit Card and Net Banking transactions are processed using a secure encrypted connection to keep your transaction details confidential at all times. We do not keep your details on file; this is why we ask you for your card details each time you make a purchase.\",\n",
              "  'We do not collect or store your credit card information. If you suspect any such thing, then please report this to your bank immediately.',\n",
              "  'If a product goes out of stock while adding it to your shopping cart or after you have added to your cart, you will be updated immediately.',\n",
              "  'Yes, you may cancel an order within 24 hours from the time of placing the order. Login in to KOOVS.COM, click on “My Account” and select the order which you wish to cancel. Cancel the order by clicking on “cancel order” button.',\n",
              "  'Once your exchange order is confirmed then simply cancel the order by following above steps. To cancel on-hold exchange orders, contact our customer care team and they will assist you with same.',\n",
              "  'Though we would love to deliver you your purchase every time you order from us but sometimes due to product failing quality checks at our end we would be forced to cancel your order.',\n",
              "  'Yes, you may cancel a partial order before the order is processed. To cancel partial orders log into your account on and cancel transaction that you no longer require. You might not be able to do partial cancellation in some promotional offers.',\n",
              "  'At present we deliver only in India.',\n",
              "  'For all Online Order our Delivery service providers will make three attempts to deliver before the product will be returned to our warehouse. After this it may be re-dispatched as per customer’s request. In case of Cash on Delivery Order, the Delivery Service provider normally calls before making delivery attempt. If customer is not present when our delivery service provider attempts to deliver the order, three more attempts are made automatically and after that product is returned to our warehouse.',\n",
              "  'Each order is shipped only to a single address. However if you wish to ship products to different addresses, you may do so by placing multiple orders.',\n",
              "  'Free shipping is available on all products, subject to a minimum order value. A Non-refundable charge of Rs. 199/- will be applied to all orders below Rs. 1199/-.',\n",
              "  'You can track your order status in the “My Account” section. Once it is dispatched, the shipment details are updated in your account, which you can track on the respective courier’s website.',\n",
              "  'Depending upon your location delivery may take 3 to 5 working days after the order is dispatched from our warehouse.',\n",
              "  'These vouchers are limited-time promotions and their validity will be specified accordingly.',\n",
              "  'It is not applicable on the purchase of sale items and cannot be combined with other promotions/offers. It is not valid on watches, innerwear, and loungewear and beauty products. Brands listed below are not part of any vouchers/discounts unless and until specifically listed in promotions/offers.',\n",
              "  'The terms and conditions will vary with promotions/offers and will be specified during the promotion campaign.',\n",
              "  'Add product/s to your cart and proceed to check out, and enter voucher code in apply promo code section.',\n",
              "  'No two promotions/offer can be clubbed. At present we do not allow you to club refund vouchers with promotional vouchers.',\n",
              "  'At present due to COVID-19 we are not accepting returns/exchange.',\n",
              "  'At present due to COVID-19 we are not accepting returns/exchange.',\n",
              "  'Exchange items are shipped within 24 hours after the item returned has passed quality checks.',\n",
              "  'Following product categories fall under \"No Return/Exchange\" unless there is an inherent damage/quality issue at the time of delivery due to a miss from our quality team.',\n",
              "  'We apologize for this however in a rare case you happen to receive a damaged/defective product, please notify us within 24 hours of receipt. We might request you to share a photograph at care@koovs.com.',\n",
              "  'We apologize for this, however in a rare case where you happen to receive a different product from what you had ordered, please notify us within 24 hours of receipt. We might request you to share a photograph at care@koovs.com.',\n",
              "  'In case your pin code is not serviced by our courier partner, you will have to self-ship the product(s) back to us, to reach our Returns Department.',\n",
              "  'For all self-shipped returns, you will be reimbursed INR 100 towards your shipping costs as a voucher which can be used for future purchase on our website. The same is subject to your returns being inspected and quality checked on receipt in our warehouse.',\n",
              "  'Shipping Address for self-ship product/s:-  C/o BLUE SAINT,                  SY# 63/3, WARD NO. 14, 144/1                  KODICHIKKNAHALLI MAIN ROAD, BOMMANAHALLI,                  BEGUR HOBLI, SOUTH TALUK                  BANGALORE – 560068 My return request was initiated but the reverse pick-up has not yet been done.',\n",
              "  'At present for every product’s reverse pick up is done separately, thus we request you to only hand over the product for which the return was initiated. I ordered the same product in more than one quantity.',\n",
              "  'Please contact us at 0124-6770000 10 am to 7 pm (Monday to Saturday) or email us at care@koovs. com and our team member will help you.',\n",
              "  'You can choose to get your refund in the following ways:  Cash refund via bank transfer into your account for all COD orders Money back to the paid account/ credit card for all online orders. A Coupon Code of the refund value in your KOOVS.COM account, which can be redeemed against any purchase. You may check the issued Coupon Code under the ‘Coupons’ section, by clicking on ‘My Account’ at KOOVS.COM.',\n",
              "  'Please contact us at 0124-6770000 10 am to 7 pm (Monday to Saturday) or email us at care@koovs. com and our team member will help you.',\n",
              "  'No. Shipping charges are non-refundable.',\n",
              "  'We work 10 am to 7 pm Monday to Saturday. I want to sell my products on KOOVS.com.',\n",
              "  'Write to us on care@koovs. com and we will assist you further.',\n",
              "  'Koovs will give a Certificate of Recognition for every bug found and reported to us. In case you have a found an issue, you can email us at  care@koovs.com. Cash or in-kind rewards are not supported currently.'])"
            ]
          },
          "metadata": {
            "tags": []
          },
          "execution_count": 5
        }
      ]
    },
    {
      "cell_type": "code",
      "metadata": {
        "id": "Tc5ndV7d1Lpo",
        "colab": {
          "base_uri": "https://localhost:8080/",
          "height": 0
        },
        "outputId": "0c590ed6-230c-47c7-ed5f-b6596e30fceb"
      },
      "source": [
        "#question and answer extraction using the above function from anuradhaartjewellery.com\n",
        "qustn_answr_extract('https://www.anuradhaartjewellery.com/faq', 'div','card')\n"
      ],
      "execution_count": 6,
      "outputs": [
        {
          "output_type": "execute_result",
          "data": {
            "text/plain": [
              "(['How can I return a product?',\n",
              "  'What are the steps for order cancellation?',\n",
              "  'In how many days my refund will be initiated?',\n",
              "  'What is the mode of a refund?',\n",
              "  'NEFT Transfer: For NEFT transfer you have to provide NEFT details so that refund will be initiated Is there a return option available for international orders?',\n",
              "  'How a domestic user can make the payment? There is two payment mode available at Anuradha Art Jewellery:                                        Cash on delivery: You can make the payment to delivery boy at the time of product delivery                                        Online Payment: You can pay online using Credit card/ Debit card/ Net banking/ Cash cards How International user can make the payment? There are two payment mode available for international orders:                                        Payment through Credit Card: You can pay online using credit cards                                        Paypal: You can make payment through paypal What is the estimated delivery time within India?',\n",
              "  'What are the shipping charges for delivery in India?',\n",
              "  '50/- What are shipping charges for International Orders?',\n",
              "  'How to place an order?',\n",
              "  'Use a preferred payment type & confirm the order                                        Happy Shopping… What are the payment methods? There are two payment options available:                                        Cash On Delivery                                        Online Payment Can I get free shipping for my order?',\n",
              "  '50/- What is the Estimate Delivery Time within India?',\n",
              "  'How to track my order?',\n",
              "  'Can I accept the shipment after checking the product inside it?',\n",
              "  'What should I do?',\n",
              "  'Will the delivery be re-attempted, if I am unable to collect in the first attempt?',\n",
              "  'How do I know my order has been confirmed?'],\n",
              " ['1. Firstly, you have to give a call to our customer support regarding the return of the product. 2. We will arrange a reverse pickup for your order                                        3. Our support team would review the tracking details and revert back within 48hrs.',\n",
              "  'You can cancel the order within 24hrs from the time when the order was placed. Even before dispatching cash on delivery orders our executive will call you for order confirmation.',\n",
              "  'Generally, all refunds are initiated within 8 working days. The refund process is done once the product is delivered back to us.',\n",
              "  '1.',\n",
              "  'Return and exchange option is not available for international orders. But in case, if the product is delivered in a damaged condition then will arrange a new shipment in good condition or else amount will be refunded.',\n",
              "  'In India, estimated delivery time is 4-5 working days. Rarely shipment gets delayed due to festive holidays.',\n",
              "  'Free shipping is available for order amount above Rs. 300. And if your order amount is below Rs. 300, then shipping will be charged as Rs.',\n",
              "  'On International order free shipping is available for order amount above $80. And if your order amount is below 80 USD, then standard shipping of $15 will be applied.',\n",
              "  'Shopping with Anuradha Art Jewellery is easy. Follow the below steps to place an order:                                        1. Add products to cart or hit buy now button                                        2. From cart page click on place order                                        3. Login with mobile otp                                        4. Choose or add the delivery address                                        5.',\n",
              "  'Yes, free shipping is available for order amount above Rs. 300. And if your order amount is below Rs. 300, then shipping will be charged as Rs.',\n",
              "  'In India, approx. delivery time is 4-5 working days. Rarely shipment gets delayed due to festive holidays.',\n",
              "  'You can check the status of your order by going on order history page in my account section. Once your order gets shipped you will receive the tracking link detail via sms and email.',\n",
              "  'Sorry, as per logistic policy, a shipment can’t be opened before delivery is accepted. But after accepting the shipment, get in touch with our support team in case of any concern. My order is delayed.',\n",
              "  'On rare occasions, shipment gets delayed. Please check your mail inbox and messages for updates. Even you can contact our support team and take the updates of your order.',\n",
              "  'Yes, will make sure that delivery will re-attempted on next working day. The courier person will call you before shipment delivery and as per your convenience, you can fix the time of delivery.',\n",
              "  'You will receive the order confirmation call from our support team. Also, you will get the message and email regarding order confirmation.'])"
            ]
          },
          "metadata": {
            "tags": []
          },
          "execution_count": 6
        }
      ]
    },
    {
      "cell_type": "code",
      "metadata": {
        "id": "JcMut3_pw-AJ"
      },
      "source": [
        "#question and answer extraction using the above function from luluandsky.com and streetstylestore.com\n",
        "\n",
        "questn_ans_1=qustn_answr_extract('https://www.luluandsky.com/faqs','div','panel-sec')\n",
        "questn_ans_2=qustn_answr_extract('https://streetstylestore.com/index.php?id_cms=18&controller=cms','div','container-fluide')"
      ],
      "execution_count": 7,
      "outputs": []
    },
    {
      "cell_type": "code",
      "metadata": {
        "id": "JT2Uo1DnRUat"
      },
      "source": [
        "#merging the retured question list from luluandsky.com and streetstylestore.com\n",
        "#merging the retured answer list from luluandsky.com and streetstylestore.com\n",
        "questn=[]\n",
        "answer=[]\n",
        "for i in questn_ans_1[0][:len(questn_ans_1[1])]+questn_ans_2[0][:len(questn_ans_2[1])]:\n",
        "  questn.append(i)\n",
        "for i in questn_ans_1[1][:len(questn_ans_1[0])]+questn_ans_2[1][:len(questn_ans_2[0])]:\n",
        "  answer.append(i)"
      ],
      "execution_count": 9,
      "outputs": []
    },
    {
      "cell_type": "code",
      "metadata": {
        "id": "zuKQIvLugmsY"
      },
      "source": [
        "#making dictionary of the question and answers\n",
        "\n",
        "Dic = {\"Questions\": questn, \"Answers\": answer}\n",
        "\n",
        "#passing the dictionary data to the dataframe.\n",
        "\n",
        "scrap_data = pd.DataFrame(Dic)\n",
        "scrap_data\n",
        "#exporting data in CSV.\n",
        "scrap_data.to_csv(\"df.csv\")"
      ],
      "execution_count": 10,
      "outputs": []
    },
    {
      "cell_type": "code",
      "metadata": {
        "id": "8yDVDYb92ho3"
      },
      "source": [
        "#importing the data containing extracted question and answer from the www.luluandsky.com website  \n",
        "df = pd.read_csv(\"/content/df.csv\")\n",
        "df= df.drop(['Unnamed: 0'],1)"
      ],
      "execution_count": 12,
      "outputs": []
    },
    {
      "cell_type": "markdown",
      "metadata": {
        "id": "AttMaO9V1-K6"
      },
      "source": [
        "# Data cleaning"
      ]
    },
    {
      "cell_type": "code",
      "metadata": {
        "id": "vMOnajEE2YUw",
        "colab": {
          "base_uri": "https://localhost:8080/",
          "height": 0
        },
        "outputId": "8519e988-3d5b-4a59-f095-ff9f9cea4724"
      },
      "source": [
        "#creating function to clean the sentences \n",
        "import re\n",
        "import gensim\n",
        "from gensim.parsing.preprocessing import remove_stopwords\n",
        "\n",
        "\n",
        "def clean_sentence(sentence, stopwords=False):\n",
        "  \n",
        "  sentence = sentence.lower().strip()\n",
        "  sentence = re.sub(r'[^a-z0-9\\s]', '', sentence)\n",
        "  \n",
        "  \n",
        "  if stopwords:\n",
        "    sentence = remove_stopwords(sentence)\n",
        "    \n",
        "  return sentence\n",
        "\n",
        "def get_cleaned_sentences(df,stopwords=False):\n",
        "  sents=df [[\"Questions\"]];\n",
        "  cleaned_sentences=[]\n",
        "  \n",
        "  for index,row in df.iterrows():\n",
        "    cleaned=clean_sentence(row[\"Questions\"],stopwords);\n",
        "    cleaned_sentences.append(cleaned);\n",
        "  return cleaned_sentences;\n",
        "\n",
        "cleaned_sentences=get_cleaned_sentences(df, stopwords=True)\n",
        "print(cleaned_sentences);\n",
        "\n",
        "print(\"\\n\")\n",
        "\n",
        "cleaned_sentences_with_stopwords=get_cleaned_sentences(df,stopwords=False)\n",
        "print(cleaned_sentences_with_stopwords);"
      ],
      "execution_count": 13,
      "outputs": [
        {
          "output_type": "stream",
          "text": [
            "['register shop luluandsky com yes register', 'disclose email phone number registration', 'personal information secure luluandsky com', 'charges registration charges registration luluandskycom registration expire', 'new password', 'edit personal information', 'unsubscribe services', 'possible', 'touch luluandsky com', 'type products sell online', 'know size', 'payment', 'happens creditdebit card compromised making payment online', 'happens merchandise ordered stock', 'limit quantity order', 'cancel order', 'change shipping address order', 'return product', 'provide warrantyguarantee merchandise', 'deliver india', 'available deliver merchandise', 'order received damaged condition', 'book order delivery address', 'shipping charges andor additional charges', 'track order', 'stipulated delivery time order', 'receive different item ordered', 'dispatch order', 'product picked', 'return products ordered', 'refund', 'detect fraudulent emailscalls seeking sensitive personal confidential information', 'check order status', 'q payment received order', 'exchange products order time', 'q problem replacement order', 'q received partial order incomplete order sss', 'whats', 'whats', 'sss customers safe', 'possible reduce contact rider delivery', 'track delivery order', 'modify shipping address mobile number order placed', 'products shipped', 'return policy', 'refund policy', 'exchange policy', 'place exchange request products bought sss', 'selfship products sss', 'selfship exchange orders', 'cancel order cancel order ive placed', 'order cancelled', 'pay order sss', 'cod cash delivery payment option work', 'cod option payment page']\n",
            "\n",
            "\n",
            "['do i have to register to shop at luluandsky com yes how do i register', 'do i have to disclose my email  phone number for registration', 'is my personal information secure at luluandsky com', 'are there any charges for registration there are no charges for registration on luluandskycom will my registration expire', 'how do i get a new password', 'can i edit my personal information', 'how do i unsubscribe from your services', 'is it possible', 'how do i get in touch with luluandsky com', 'what type of products do you sell online', 'how do i know my size', 'how do i make a payment', 'what happens if my creditdebit card has been compromised while making a payment online', 'what happens if merchandise ordered is out of stock', 'is there a limit to the quantity that i can order', 'can i cancel an order', 'can i change the shipping address of the order', 'how do i return a product', 'do you provide warrantyguarantee for merchandise', 'do you deliver out of india', 'what if i am not available when you deliver the merchandise', 'what do i do if my order is received in a damaged condition', 'can i book an order for delivery to more than one address', 'what are the shipping charges andor are there any additional charges', 'how can i track my order', 'what is the stipulated delivery time for an order', 'what should i do if i receive a different item from the one that i have ordered', 'when will you dispatch my order', 'when will the product be picked up', 'how do i return the products i ordered ', 'when will i get the refund', 'how will i detect fraudulent emailscalls seeking sensitive personal and confidential information', 'how can i check my order status', 'q i have made the payment already but i have not received my order', 'do i have to exchange all the products in my order at the same time', 'q i have a problem with my replacement order', 'q i have received a partial order  incomplete order from sss', 'whats next', 'whats next', 'what is sss doing to keep customers safe', 'is it possible to reduce contact with my rider while delivery', 'how can i track the delivery of my order', 'can i modify the shipping address or mobile number of my order after it has been placed', 'will all the products be shipped out together', 'what is your return policy', 'what is your refund policy', 'what is your exchange policy', 'how do i place an exchange request for my products bought on sss', 'can i selfship the products to sss', 'where should i selfship the exchange orders', 'how can i cancel my order  can i cancel my order after ive placed it', 'why was my order cancelled', 'how can i pay for my order at sss', 'how does the cod cash on delivery payment option work', 'why cant i see the cod option on my payment page']\n"
          ],
          "name": "stdout"
        }
      ]
    },
    {
      "cell_type": "code",
      "metadata": {
        "id": "Vx1m-tjT0EpS"
      },
      "source": [
        "#creating function which finds the cosine_similarity between the user query and trained data\n",
        "import sklearn\n",
        "from sklearn.metrics.pairwise import cosine_similarity;\n",
        "def retrieveAndPrintFAQAnswer(question_embedding,sentence_embeddings,FAQdf,sentences):\n",
        "  max_sim=-1;\n",
        "  index_sim=-1;\n",
        "  for index, faq_embedding in enumerate(sentence_embeddings):\n",
        "  \n",
        "    sim=cosine_similarity(faq_embedding,question_embedding)[0][0];\n",
        "    print(index, sim, sentences [index])\n",
        "    if sim>max_sim:\n",
        "      max_sim=sim;\n",
        "      index_sim=index;\n",
        "  print(\"\\n\")\n",
        "  print(\"Question: \", question)\n",
        "  print(\"\\n\");\n",
        "  print(\"Retrieved: \" ,FAQdf.iloc[index_sim, 0])\n",
        "  print(FAQdf.iloc[index_sim,1])\n",
        "\n",
        "#retrieveAndPrintFAQAnswer (question bedding,bow corpus,df,sentences);"
      ],
      "execution_count": 14,
      "outputs": []
    },
    {
      "cell_type": "markdown",
      "metadata": {
        "id": "oLDCKhq2CwCE"
      },
      "source": [
        "# Word2vec algorithm- Skip-gram model"
      ]
    },
    {
      "cell_type": "code",
      "metadata": {
        "colab": {
          "base_uri": "https://localhost:8080/",
          "height": 0
        },
        "id": "4MLlnz59I-7g",
        "outputId": "f5d104a5-e29f-4c53-fde5-c76c6230dfb5"
      },
      "source": [
        "#Use gensim to load a word2vec model,havinig embedding of 300 dimensions, pretrained on google news\n",
        "from gensim.models import Word2Vec\n",
        "import gensim.downloader as api\n",
        "\n",
        "v2w_model=None;\n",
        "try:\n",
        "  v2w_model = gensim. models. KeyedVectors.load(\"./w2vecmodel.mod\")\n",
        "  print(\"Loaded w2v model\")\n",
        "except:\n",
        "  v2w_model= api.load('word2vec-google-news-300')\n",
        "  v2w_model.save(\"./w2vecmodel.mod\")\n",
        "  print(\"Saved v2w model\")\n",
        "  w2vec_embedding_size=len (v2w_model['computer']); "
      ],
      "execution_count": 15,
      "outputs": [
        {
          "output_type": "stream",
          "text": [
            "[==================================================] 100.0% 1662.8/1662.8MB downloaded\n",
            "Saved v2w model\n"
          ],
          "name": "stdout"
        }
      ]
    },
    {
      "cell_type": "code",
      "metadata": {
        "id": "xc5evIDWjeo9"
      },
      "source": [
        "#function to create phrase vectors from word vectors by simply suming up all the word vectors \n",
        "def getWordVec (word,model):\n",
        "  samp=model['computer'];\n",
        "  vec=[0]*len(samp);\n",
        "  try:\n",
        "        vec=model[word];\n",
        "  except:\n",
        "        vec=[0]*len(samp);\n",
        "  return (vec)\n",
        "\n",
        "def getPhraseEmbedding(phrase,embeddingmodel):\n",
        "  \n",
        "  samp=getWordVec('computer', embeddingmodel);\n",
        "  vec=numpy.array([0]*len(samp));\n",
        "  den=0;\n",
        "  for word in phrase.split():\n",
        "    den=den+1;\n",
        "    vec=vec+numpy.array(getWordVec(word,embeddingmodel));\n",
        "  \n",
        "  return vec.reshape(1,-1)"
      ],
      "execution_count": 16,
      "outputs": []
    },
    {
      "cell_type": "code",
      "metadata": {
        "id": "YWtKXcxWEWIu"
      },
      "source": [
        "#user query - simple\n",
        "questn_orig='how can I pay?'\n",
        "\n",
        "question=clean_sentence(questn_orig,stopwords=False)"
      ],
      "execution_count": 41,
      "outputs": []
    },
    {
      "cell_type": "code",
      "metadata": {
        "colab": {
          "base_uri": "https://localhost:8080/",
          "height": 0
        },
        "id": "Ra-LXIkKEawG",
        "outputId": "1c50890d-8acd-43c5-b488-5fe98c8ca8a5"
      },
      "source": [
        "#retrieving query based on simple user query  \n",
        "cleaned_sentences=get_cleaned_sentences(df,stopwords=False)\n",
        "\n",
        "sent_embeddings=[];\n",
        "for sent in cleaned_sentences:\n",
        "  sent_embeddings.append(getPhraseEmbedding(sent,v2w_model));\n",
        "\n",
        "question_embedding=getPhraseEmbedding(question,v2w_model);\n",
        "\n",
        "retrieveAndPrintFAQAnswer(question_embedding,sent_embeddings,df, cleaned_sentences);"
      ],
      "execution_count": 42,
      "outputs": [
        {
          "output_type": "stream",
          "text": [
            "0 0.7358864746521492 do i have to register to shop at luluandsky com yes how do i register\n",
            "1 0.5929838754323429 do i have to disclose my email  phone number for registration\n",
            "2 0.4394731577608166 is my personal information secure at luluandsky com\n",
            "3 0.45131341677424525 are there any charges for registration there are no charges for registration on luluandskycom will my registration expire\n",
            "4 0.738082344317912 how do i get a new password\n",
            "5 0.6096222995612963 can i edit my personal information\n",
            "6 0.6890028645282527 how do i unsubscribe from your services\n",
            "7 0.46066957497693345 is it possible\n",
            "8 0.7487027689700474 how do i get in touch with luluandsky com\n",
            "9 0.6395698974965346 what type of products do you sell online\n",
            "10 0.7595452454625273 how do i know my size\n",
            "11 0.864578815458327 how do i make a payment\n",
            "12 0.6070836776685202 what happens if my creditdebit card has been compromised while making a payment online\n",
            "13 0.5573714018595958 what happens if merchandise ordered is out of stock\n",
            "14 0.6689416901949026 is there a limit to the quantity that i can order\n",
            "15 0.668821747463982 can i cancel an order\n",
            "16 0.608916286402246 can i change the shipping address of the order\n",
            "17 0.7716395916565397 how do i return a product\n",
            "18 0.5396135529457692 do you provide warrantyguarantee for merchandise\n",
            "19 0.6163187424375418 do you deliver out of india\n",
            "20 0.701044588632078 what if i am not available when you deliver the merchandise\n",
            "21 0.6695476638658636 what do i do if my order is received in a damaged condition\n",
            "22 0.5896846280062669 can i book an order for delivery to more than one address\n",
            "23 0.49694668293656225 what are the shipping charges andor are there any additional charges\n",
            "24 0.7792825499393634 how can i track my order\n",
            "25 0.456334247982068 what is the stipulated delivery time for an order\n",
            "26 0.8060990091222013 what should i do if i receive a different item from the one that i have ordered\n",
            "27 0.5736872160576411 when will you dispatch my order\n",
            "28 0.43015260016550977 when will the product be picked up\n",
            "29 0.8022962219853075 how do i return the products i ordered \n",
            "30 0.7278927311241867 when will i get the refund\n",
            "31 0.5322051031314226 how will i detect fraudulent emailscalls seeking sensitive personal and confidential information\n",
            "32 0.7605991950461792 how can i check my order status\n",
            "33 0.7124124461454521 q i have made the payment already but i have not received my order\n",
            "34 0.6020026017942179 do i have to exchange all the products in my order at the same time\n",
            "35 0.5931030542761434 q i have a problem with my replacement order\n",
            "36 0.5107971902150588 q i have received a partial order  incomplete order from sss\n",
            "37 0.5231239881368018 whats next\n",
            "38 0.5231239881368018 whats next\n",
            "39 0.5263174692321303 what is sss doing to keep customers safe\n",
            "40 0.44384590272897145 is it possible to reduce contact with my rider while delivery\n",
            "41 0.7290694924105401 how can i track the delivery of my order\n",
            "42 0.6231392148066124 can i modify the shipping address or mobile number of my order after it has been placed\n",
            "43 0.45686187651046584 will all the products be shipped out together\n",
            "44 0.5001460650551984 what is your return policy\n",
            "45 0.5621073406782602 what is your refund policy\n",
            "46 0.5065490447592429 what is your exchange policy\n",
            "47 0.6741927936977642 how do i place an exchange request for my products bought on sss\n",
            "48 0.6755825759326987 can i selfship the products to sss\n",
            "49 0.6077043554540714 where should i selfship the exchange orders\n",
            "50 0.7481099348507334 how can i cancel my order  can i cancel my order after ive placed it\n",
            "51 0.5031553372129453 why was my order cancelled\n",
            "52 0.8604735479353051 how can i pay for my order at sss\n",
            "53 0.5758447530362921 how does the cod cash on delivery payment option work\n",
            "54 0.7075950686126187 why cant i see the cod option on my payment page\n",
            "\n",
            "\n",
            "Question:  how can i pay\n",
            "\n",
            "\n",
            "Retrieved:  How do I make a payment?\n",
            "We accept Master Card, Visa credit, Debit & Credit Cards. We also have an option of net banking and Cash on Delivery.\n"
          ],
          "name": "stdout"
        }
      ]
    },
    {
      "cell_type": "code",
      "metadata": {
        "id": "vG7g89HOctZA"
      },
      "source": [
        "#user query - complex\n",
        "questn_orig='how many days will it take for my order to get delivered?'\n",
        "question=clean_sentence(questn_orig,stopwords=False)"
      ],
      "execution_count": 35,
      "outputs": []
    },
    {
      "cell_type": "code",
      "metadata": {
        "colab": {
          "base_uri": "https://localhost:8080/",
          "height": 0
        },
        "id": "uEVLRb8o3C9Y",
        "outputId": "c4d6bf2c-59d6-4124-a688-3b9973fe9931"
      },
      "source": [
        "#retrieving query based on complex user query  \n",
        "cleaned_sentences=get_cleaned_sentences(df,stopwords=False)\n",
        "\n",
        "sent_embeddings=[];\n",
        "for sent in cleaned_sentences:\n",
        "  sent_embeddings.append(getPhraseEmbedding(sent,v2w_model));\n",
        "\n",
        "question_embedding=getPhraseEmbedding(question,v2w_model);\n",
        "\n",
        "retrieveAndPrintFAQAnswer(question_embedding,sent_embeddings,df, cleaned_sentences);"
      ],
      "execution_count": 43,
      "outputs": [
        {
          "output_type": "stream",
          "text": [
            "0 0.7358864746521492 do i have to register to shop at luluandsky com yes how do i register\n",
            "1 0.5929838754323429 do i have to disclose my email  phone number for registration\n",
            "2 0.4394731577608166 is my personal information secure at luluandsky com\n",
            "3 0.45131341677424525 are there any charges for registration there are no charges for registration on luluandskycom will my registration expire\n",
            "4 0.738082344317912 how do i get a new password\n",
            "5 0.6096222995612963 can i edit my personal information\n",
            "6 0.6890028645282527 how do i unsubscribe from your services\n",
            "7 0.46066957497693345 is it possible\n",
            "8 0.7487027689700474 how do i get in touch with luluandsky com\n",
            "9 0.6395698974965346 what type of products do you sell online\n",
            "10 0.7595452454625273 how do i know my size\n",
            "11 0.864578815458327 how do i make a payment\n",
            "12 0.6070836776685202 what happens if my creditdebit card has been compromised while making a payment online\n",
            "13 0.5573714018595958 what happens if merchandise ordered is out of stock\n",
            "14 0.6689416901949026 is there a limit to the quantity that i can order\n",
            "15 0.668821747463982 can i cancel an order\n",
            "16 0.608916286402246 can i change the shipping address of the order\n",
            "17 0.7716395916565397 how do i return a product\n",
            "18 0.5396135529457692 do you provide warrantyguarantee for merchandise\n",
            "19 0.6163187424375418 do you deliver out of india\n",
            "20 0.701044588632078 what if i am not available when you deliver the merchandise\n",
            "21 0.6695476638658636 what do i do if my order is received in a damaged condition\n",
            "22 0.5896846280062669 can i book an order for delivery to more than one address\n",
            "23 0.49694668293656225 what are the shipping charges andor are there any additional charges\n",
            "24 0.7792825499393634 how can i track my order\n",
            "25 0.456334247982068 what is the stipulated delivery time for an order\n",
            "26 0.8060990091222013 what should i do if i receive a different item from the one that i have ordered\n",
            "27 0.5736872160576411 when will you dispatch my order\n",
            "28 0.43015260016550977 when will the product be picked up\n",
            "29 0.8022962219853075 how do i return the products i ordered \n",
            "30 0.7278927311241867 when will i get the refund\n",
            "31 0.5322051031314226 how will i detect fraudulent emailscalls seeking sensitive personal and confidential information\n",
            "32 0.7605991950461792 how can i check my order status\n",
            "33 0.7124124461454521 q i have made the payment already but i have not received my order\n",
            "34 0.6020026017942179 do i have to exchange all the products in my order at the same time\n",
            "35 0.5931030542761434 q i have a problem with my replacement order\n",
            "36 0.5107971902150588 q i have received a partial order  incomplete order from sss\n",
            "37 0.5231239881368018 whats next\n",
            "38 0.5231239881368018 whats next\n",
            "39 0.5263174692321303 what is sss doing to keep customers safe\n",
            "40 0.44384590272897145 is it possible to reduce contact with my rider while delivery\n",
            "41 0.7290694924105401 how can i track the delivery of my order\n",
            "42 0.6231392148066124 can i modify the shipping address or mobile number of my order after it has been placed\n",
            "43 0.45686187651046584 will all the products be shipped out together\n",
            "44 0.5001460650551984 what is your return policy\n",
            "45 0.5621073406782602 what is your refund policy\n",
            "46 0.5065490447592429 what is your exchange policy\n",
            "47 0.6741927936977642 how do i place an exchange request for my products bought on sss\n",
            "48 0.6755825759326987 can i selfship the products to sss\n",
            "49 0.6077043554540714 where should i selfship the exchange orders\n",
            "50 0.7481099348507334 how can i cancel my order  can i cancel my order after ive placed it\n",
            "51 0.5031553372129453 why was my order cancelled\n",
            "52 0.8604735479353051 how can i pay for my order at sss\n",
            "53 0.5758447530362921 how does the cod cash on delivery payment option work\n",
            "54 0.7075950686126187 why cant i see the cod option on my payment page\n",
            "\n",
            "\n",
            "Question:  how can i pay\n",
            "\n",
            "\n",
            "Retrieved:  How do I make a payment?\n",
            "We accept Master Card, Visa credit, Debit & Credit Cards. We also have an option of net banking and Cash on Delivery.\n"
          ],
          "name": "stdout"
        }
      ]
    },
    {
      "cell_type": "markdown",
      "metadata": {
        "id": "NvtEWzhpIZ1v"
      },
      "source": [
        "# BERT Training"
      ]
    },
    {
      "cell_type": "code",
      "metadata": {
        "id": "s5fUp9363fuu",
        "colab": {
          "base_uri": "https://localhost:8080/",
          "height": 0
        },
        "outputId": "1e8e88a7-ded2-4970-9a4f-b7a6d5441331"
      },
      "source": [
        "#installing the bert serving client\n",
        "!pip install bert-serving-client\n",
        "\n",
        "!pip install -U bert-serving-server[http]"
      ],
      "execution_count": 26,
      "outputs": [
        {
          "output_type": "stream",
          "text": [
            "Requirement already satisfied: bert-serving-client in /usr/local/lib/python3.7/dist-packages (1.10.0)\n",
            "Requirement already satisfied: numpy in /usr/local/lib/python3.7/dist-packages (from bert-serving-client) (1.19.5)\n",
            "Requirement already satisfied: pyzmq>=17.1.0 in /usr/local/lib/python3.7/dist-packages (from bert-serving-client) (22.0.3)\n",
            "Requirement already up-to-date: bert-serving-server[http] in /usr/local/lib/python3.7/dist-packages (1.10.0)\n",
            "Requirement already satisfied, skipping upgrade: termcolor>=1.1 in /usr/local/lib/python3.7/dist-packages (from bert-serving-server[http]) (1.1.0)\n",
            "Requirement already satisfied, skipping upgrade: GPUtil>=1.3.0 in /usr/local/lib/python3.7/dist-packages (from bert-serving-server[http]) (1.4.0)\n",
            "Requirement already satisfied, skipping upgrade: six in /usr/local/lib/python3.7/dist-packages (from bert-serving-server[http]) (1.15.0)\n",
            "Requirement already satisfied, skipping upgrade: numpy in /usr/local/lib/python3.7/dist-packages (from bert-serving-server[http]) (1.19.5)\n",
            "Requirement already satisfied, skipping upgrade: pyzmq>=17.1.0 in /usr/local/lib/python3.7/dist-packages (from bert-serving-server[http]) (22.0.3)\n",
            "Requirement already satisfied, skipping upgrade: flask-compress; extra == \"http\" in /usr/local/lib/python3.7/dist-packages (from bert-serving-server[http]) (1.9.0)\n",
            "Requirement already satisfied, skipping upgrade: flask-json; extra == \"http\" in /usr/local/lib/python3.7/dist-packages (from bert-serving-server[http]) (0.3.4)\n",
            "Requirement already satisfied, skipping upgrade: bert-serving-client; extra == \"http\" in /usr/local/lib/python3.7/dist-packages (from bert-serving-server[http]) (1.10.0)\n",
            "Requirement already satisfied, skipping upgrade: flask-cors; extra == \"http\" in /usr/local/lib/python3.7/dist-packages (from bert-serving-server[http]) (3.0.10)\n",
            "Requirement already satisfied, skipping upgrade: flask; extra == \"http\" in /usr/local/lib/python3.7/dist-packages (from bert-serving-server[http]) (1.1.2)\n",
            "Requirement already satisfied, skipping upgrade: brotli in /usr/local/lib/python3.7/dist-packages (from flask-compress; extra == \"http\"->bert-serving-server[http]) (1.0.9)\n",
            "Requirement already satisfied, skipping upgrade: Jinja2>=2.10.1 in /usr/local/lib/python3.7/dist-packages (from flask; extra == \"http\"->bert-serving-server[http]) (2.11.3)\n",
            "Requirement already satisfied, skipping upgrade: Werkzeug>=0.15 in /usr/local/lib/python3.7/dist-packages (from flask; extra == \"http\"->bert-serving-server[http]) (2.0.0)\n",
            "Requirement already satisfied, skipping upgrade: click>=5.1 in /usr/local/lib/python3.7/dist-packages (from flask; extra == \"http\"->bert-serving-server[http]) (8.0.0)\n",
            "Requirement already satisfied, skipping upgrade: itsdangerous>=0.24 in /usr/local/lib/python3.7/dist-packages (from flask; extra == \"http\"->bert-serving-server[http]) (2.0.0)\n",
            "Requirement already satisfied, skipping upgrade: MarkupSafe>=0.23 in /usr/local/lib/python3.7/dist-packages (from Jinja2>=2.10.1->flask; extra == \"http\"->bert-serving-server[http]) (2.0.0)\n"
          ],
          "name": "stdout"
        }
      ]
    },
    {
      "cell_type": "code",
      "metadata": {
        "id": "aOxsUt_X3iYs",
        "colab": {
          "base_uri": "https://localhost:8080/",
          "height": 0
        },
        "outputId": "d503b00a-62de-4d44-ea18-308dcc8a57e7"
      },
      "source": [
        "!wget https://storage.googleapis.com/bert_models/2018_10_18/uncased_L-12_H-768_A-12.zip\n",
        "\n",
        "!unzip uncased_L-12_H-768_A-12.zip\n",
        "\n",
        "%tensorflow_version 1.x\n",
        "\n",
        "!nohup bert-serving-start -model_dir=./uncased_L-12_H-768_A-12 > out.file 2>&1 &"
      ],
      "execution_count": 27,
      "outputs": [
        {
          "output_type": "stream",
          "text": [
            "--2021-05-18 10:17:25--  https://storage.googleapis.com/bert_models/2018_10_18/uncased_L-12_H-768_A-12.zip\n",
            "Resolving storage.googleapis.com (storage.googleapis.com)... 74.125.203.128, 74.125.204.128, 64.233.189.128, ...\n",
            "Connecting to storage.googleapis.com (storage.googleapis.com)|74.125.203.128|:443... connected.\n",
            "HTTP request sent, awaiting response... 200 OK\n",
            "Length: 407727028 (389M) [application/zip]\n",
            "Saving to: ‘uncased_L-12_H-768_A-12.zip.1’\n",
            "\n",
            "uncased_L-12_H-768_ 100%[===================>] 388.84M  76.3MB/s    in 5.5s    \n",
            "\n",
            "2021-05-18 10:17:31 (71.1 MB/s) - ‘uncased_L-12_H-768_A-12.zip.1’ saved [407727028/407727028]\n",
            "\n",
            "Archive:  uncased_L-12_H-768_A-12.zip\n",
            "replace uncased_L-12_H-768_A-12/bert_model.ckpt.meta? [y]es, [n]o, [A]ll, [N]one, [r]ename: y\n",
            "  inflating: uncased_L-12_H-768_A-12/bert_model.ckpt.meta  \n",
            "replace uncased_L-12_H-768_A-12/bert_model.ckpt.data-00000-of-00001? [y]es, [n]o, [A]ll, [N]one, [r]ename: y\n",
            "  inflating: uncased_L-12_H-768_A-12/bert_model.ckpt.data-00000-of-00001  y\n",
            "y\n",
            "y\n",
            "y\n",
            "\n",
            "replace uncased_L-12_H-768_A-12/vocab.txt? [y]es, [n]o, [A]ll, [N]one, [r]ename:   inflating: uncased_L-12_H-768_A-12/vocab.txt  \n",
            "replace uncased_L-12_H-768_A-12/bert_model.ckpt.index? [y]es, [n]o, [A]ll, [N]one, [r]ename:   inflating: uncased_L-12_H-768_A-12/bert_model.ckpt.index  \n",
            "replace uncased_L-12_H-768_A-12/bert_config.json? [y]es, [n]o, [A]ll, [N]one, [r]ename:   inflating: uncased_L-12_H-768_A-12/bert_config.json  \n"
          ],
          "name": "stdout"
        }
      ]
    },
    {
      "cell_type": "code",
      "metadata": {
        "id": "2uJAfJWd3ihO"
      },
      "source": [
        "#importing bert client\n",
        "from bert_serving.client import BertClient\n",
        "\n",
        "bc = BertClient()"
      ],
      "execution_count": 28,
      "outputs": []
    },
    {
      "cell_type": "code",
      "metadata": {
        "id": "CpL5vJbIDxn4"
      },
      "source": [
        "#user query - simple\n",
        "questn_orig='how can I pay?'\n",
        "\n",
        "question=clean_sentence(questn_orig,stopwords=False)"
      ],
      "execution_count": 39,
      "outputs": []
    },
    {
      "cell_type": "code",
      "metadata": {
        "colab": {
          "base_uri": "https://localhost:8080/",
          "height": 0
        },
        "id": "0DukoYdwDy2n",
        "outputId": "ebab1e03-9317-4e55-8f19-bff964d73cce"
      },
      "source": [
        "#retrieving query based on simple user query  \n",
        "cleaned_sentences=get_cleaned_sentences(df,stopwords=False)\n",
        "\n",
        "sent_bertphrase_embeddings=[];\n",
        "for sent in cleaned_sentences:\n",
        "  sent_bertphrase_embeddings.append(bc.encode([sent]));\n",
        "\n",
        "question_embedding=bc.encode([question]);\n",
        "\n",
        "retrieveAndPrintFAQAnswer(question_embedding,sent_bertphrase_embeddings,df, cleaned_sentences);"
      ],
      "execution_count": 40,
      "outputs": [
        {
          "output_type": "stream",
          "text": [
            "0 0.7269781 do i have to register to shop at luluandsky com yes how do i register\n",
            "1 0.7141696 do i have to disclose my email  phone number for registration\n",
            "2 0.602797 is my personal information secure at luluandsky com\n",
            "3 0.6438073 are there any charges for registration there are no charges for registration on luluandskycom will my registration expire\n",
            "4 0.77977836 how do i get a new password\n",
            "5 0.63833493 can i edit my personal information\n",
            "6 0.70818913 how do i unsubscribe from your services\n",
            "7 0.68586206 is it possible\n",
            "8 0.73810434 how do i get in touch with luluandsky com\n",
            "9 0.62330604 what type of products do you sell online\n",
            "10 0.81619835 how do i know my size\n",
            "11 0.8684416 how do i make a payment\n",
            "12 0.66340995 what happens if my creditdebit card has been compromised while making a payment online\n",
            "13 0.6429103 what happens if merchandise ordered is out of stock\n",
            "14 0.6477229 is there a limit to the quantity that i can order\n",
            "15 0.6835697 can i cancel an order\n",
            "16 0.6625334 can i change the shipping address of the order\n",
            "17 0.8141692 how do i return a product\n",
            "18 0.6618647 do you provide warrantyguarantee for merchandise\n",
            "19 0.6723812 do you deliver out of india\n",
            "20 0.7118637 what if i am not available when you deliver the merchandise\n",
            "21 0.74277467 what do i do if my order is received in a damaged condition\n",
            "22 0.67166436 can i book an order for delivery to more than one address\n",
            "23 0.64653754 what are the shipping charges andor are there any additional charges\n",
            "24 0.8244953 how can i track my order\n",
            "25 0.63528186 what is the stipulated delivery time for an order\n",
            "26 0.7554383 what should i do if i receive a different item from the one that i have ordered\n",
            "27 0.65732557 when will you dispatch my order\n",
            "28 0.66265553 when will the product be picked up\n",
            "29 0.78297687 how do i return the products i ordered \n",
            "30 0.76465297 when will i get the refund\n",
            "31 0.6706469 how will i detect fraudulent emailscalls seeking sensitive personal and confidential information\n",
            "32 0.7806888 how can i check my order status\n",
            "33 0.6687794 q i have made the payment already but i have not received my order\n",
            "34 0.7401304 do i have to exchange all the products in my order at the same time\n",
            "35 0.70067847 q i have a problem with my replacement order\n",
            "36 0.6088902 q i have received a partial order  incomplete order from sss\n",
            "37 0.5827422 whats next\n",
            "38 0.5827422 whats next\n",
            "39 0.67365927 what is sss doing to keep customers safe\n",
            "40 0.68531984 is it possible to reduce contact with my rider while delivery\n",
            "41 0.75327766 how can i track the delivery of my order\n",
            "42 0.6218519 can i modify the shipping address or mobile number of my order after it has been placed\n",
            "43 0.62570286 will all the products be shipped out together\n",
            "44 0.7375067 what is your return policy\n",
            "45 0.73284614 what is your refund policy\n",
            "46 0.7363989 what is your exchange policy\n",
            "47 0.73482484 how do i place an exchange request for my products bought on sss\n",
            "48 0.7250681 can i selfship the products to sss\n",
            "49 0.75858104 where should i selfship the exchange orders\n",
            "50 0.7331823 how can i cancel my order  can i cancel my order after ive placed it\n",
            "51 0.7589687 why was my order cancelled\n",
            "52 0.84141076 how can i pay for my order at sss\n",
            "53 0.6841168 how does the cod cash on delivery payment option work\n",
            "54 0.77325207 why cant i see the cod option on my payment page\n",
            "\n",
            "\n",
            "Question:  how can i pay\n",
            "\n",
            "\n",
            "Retrieved:  How do I make a payment?\n",
            "We accept Master Card, Visa credit, Debit & Credit Cards. We also have an option of net banking and Cash on Delivery.\n"
          ],
          "name": "stdout"
        }
      ]
    },
    {
      "cell_type": "code",
      "metadata": {
        "id": "xfdktzUi3s3c"
      },
      "source": [
        "#user query - complex\n",
        "questn_orig='how many days will it take for my order to get delivered?'\n",
        "\n",
        "question=clean_sentence(questn_orig,stopwords=False)"
      ],
      "execution_count": 37,
      "outputs": []
    },
    {
      "cell_type": "code",
      "metadata": {
        "id": "5d38aY-L3wnF",
        "colab": {
          "base_uri": "https://localhost:8080/",
          "height": 0
        },
        "outputId": "dce51e5c-4c85-44b5-8882-6d0088aac807"
      },
      "source": [
        "#retrieving query based on complex user query  \n",
        "cleaned_sentences=get_cleaned_sentences(df,stopwords=False)\n",
        "\n",
        "sent_bertphrase_embeddings=[];\n",
        "for sent in cleaned_sentences:\n",
        "  sent_bertphrase_embeddings.append(bc.encode([sent]));\n",
        "\n",
        "question_embedding=bc.encode([question]);\n",
        "\n",
        "retrieveAndPrintFAQAnswer(question_embedding,sent_bertphrase_embeddings,df, cleaned_sentences);"
      ],
      "execution_count": 38,
      "outputs": [
        {
          "output_type": "stream",
          "text": [
            "0 0.68481755 do i have to register to shop at luluandsky com yes how do i register\n",
            "1 0.71404827 do i have to disclose my email  phone number for registration\n",
            "2 0.59847045 is my personal information secure at luluandsky com\n",
            "3 0.64724797 are there any charges for registration there are no charges for registration on luluandskycom will my registration expire\n",
            "4 0.71004295 how do i get a new password\n",
            "5 0.5795652 can i edit my personal information\n",
            "6 0.5861496 how do i unsubscribe from your services\n",
            "7 0.60096073 is it possible\n",
            "8 0.7062543 how do i get in touch with luluandsky com\n",
            "9 0.6537336 what type of products do you sell online\n",
            "10 0.6628356 how do i know my size\n",
            "11 0.7146776 how do i make a payment\n",
            "12 0.69969475 what happens if my creditdebit card has been compromised while making a payment online\n",
            "13 0.6629613 what happens if merchandise ordered is out of stock\n",
            "14 0.6119648 is there a limit to the quantity that i can order\n",
            "15 0.698671 can i cancel an order\n",
            "16 0.7168655 can i change the shipping address of the order\n",
            "17 0.68980527 how do i return a product\n",
            "18 0.6082785 do you provide warrantyguarantee for merchandise\n",
            "19 0.6310037 do you deliver out of india\n",
            "20 0.7217804 what if i am not available when you deliver the merchandise\n",
            "21 0.70084506 what do i do if my order is received in a damaged condition\n",
            "22 0.749519 can i book an order for delivery to more than one address\n",
            "23 0.6531636 what are the shipping charges andor are there any additional charges\n",
            "24 0.75711596 how can i track my order\n",
            "25 0.75788534 what is the stipulated delivery time for an order\n",
            "26 0.7195975 what should i do if i receive a different item from the one that i have ordered\n",
            "27 0.73041445 when will you dispatch my order\n",
            "28 0.76251435 when will the product be picked up\n",
            "29 0.7406535 how do i return the products i ordered \n",
            "30 0.77637756 when will i get the refund\n",
            "31 0.65737885 how will i detect fraudulent emailscalls seeking sensitive personal and confidential information\n",
            "32 0.7337773 how can i check my order status\n",
            "33 0.6998092 q i have made the payment already but i have not received my order\n",
            "34 0.7416173 do i have to exchange all the products in my order at the same time\n",
            "35 0.63303155 q i have a problem with my replacement order\n",
            "36 0.5794462 q i have received a partial order  incomplete order from sss\n",
            "37 0.52312946 whats next\n",
            "38 0.52312946 whats next\n",
            "39 0.66247296 what is sss doing to keep customers safe\n",
            "40 0.66104263 is it possible to reduce contact with my rider while delivery\n",
            "41 0.79665154 how can i track the delivery of my order\n",
            "42 0.71088976 can i modify the shipping address or mobile number of my order after it has been placed\n",
            "43 0.73335385 will all the products be shipped out together\n",
            "44 0.6518774 what is your return policy\n",
            "45 0.6465279 what is your refund policy\n",
            "46 0.62748206 what is your exchange policy\n",
            "47 0.6964602 how do i place an exchange request for my products bought on sss\n",
            "48 0.63963294 can i selfship the products to sss\n",
            "49 0.6602646 where should i selfship the exchange orders\n",
            "50 0.70691955 how can i cancel my order  can i cancel my order after ive placed it\n",
            "51 0.7062621 why was my order cancelled\n",
            "52 0.7411981 how can i pay for my order at sss\n",
            "53 0.6727034 how does the cod cash on delivery payment option work\n",
            "54 0.6801858 why cant i see the cod option on my payment page\n",
            "\n",
            "\n",
            "Question:  how many days will it take for my order to get delivered\n",
            "\n",
            "\n",
            "Retrieved:  How can I track the delivery of my order?\n",
            "You can track your order as soon as it is shipped out. To know the status of your item real time, just use the tracking number provided in the email sent to you and track your parcel from the courier partner’s website. Q.\n"
          ],
          "name": "stdout"
        }
      ]
    }
  ]
}